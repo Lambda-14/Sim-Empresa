{
 "cells": [
  {
   "cell_type": "code",
   "execution_count": 1,
   "id": "4280525e",
   "metadata": {},
   "outputs": [],
   "source": [
    "import pandas as pd"
   ]
  },
  {
   "cell_type": "code",
   "execution_count": 2,
   "id": "fe391c0c",
   "metadata": {},
   "outputs": [],
   "source": [
    "df = pd.read_csv(r\"C:\\Users\\Maeloc\\Desktop\\IT_Academy\\Simulador\\repo\\ProjecteData\\Equip_16\\Data\\banca_22.09_dataset.csv\")"
   ]
  },
  {
   "cell_type": "markdown",
   "id": "8e1bd49b",
   "metadata": {},
   "source": [
    "Conteo de filas y % por producto (Totales)"
   ]
  },
  {
   "cell_type": "code",
   "execution_count": 3,
   "id": "9d475293",
   "metadata": {},
   "outputs": [],
   "source": [
    "conteoHousing = df[df['housing'] == 'yes'].shape[0]  #7614\n",
    "# print(conteoHousing)\n",
    "\n",
    "conteoLoan = df[df['loan'] == 'yes'].shape[0] #2119\n",
    "# print(conteoLoan)\n",
    "\n",
    "conteoDeposit = df[df['deposit'] == 'yes'].shape[0] #7697\n",
    "# print(conteoDeposit)\n",
    "\n",
    "conteoAll = conteoHousing + conteoDeposit + conteoLoan #17430\n",
    "# print(conteoAll) "
   ]
  },
  {
   "cell_type": "code",
   "execution_count": 4,
   "id": "87608681",
   "metadata": {},
   "outputs": [
    {
     "name": "stdout",
     "output_type": "stream",
     "text": [
      "Porcentaje Housing: 43.68 %\n",
      "Porcentaje Loan: 12.16 %\n",
      "Porcentaje Deposit: 44.16 %\n"
     ]
    }
   ],
   "source": [
    "porcentajeHousing = round((conteoHousing*100)/conteoAll,2)\n",
    "print(f\"Porcentaje Housing: {porcentajeHousing} %\")\n",
    "\n",
    "porcentajeLoan = round((conteoLoan*100)/conteoAll,2)\n",
    "print(f\"Porcentaje Loan: {porcentajeLoan} %\")\n",
    "\n",
    "porcentajeDeposit = round((conteoDeposit*100)/conteoAll,2)\n",
    "print(f\"Porcentaje Deposit: {porcentajeDeposit} %\")"
   ]
  },
  {
   "cell_type": "code",
   "execution_count": 37,
   "id": "67e5412b",
   "metadata": {},
   "outputs": [
    {
     "data": {
      "text/plain": [
       "Perfil\n",
       "Adultxs            2036\n",
       "Divorciadxs        1347\n",
       "Gen Z & Boomers    1722\n",
       "Millenials         2592\n",
       "dtype: int64"
      ]
     },
     "execution_count": 37,
     "metadata": {},
     "output_type": "execute_result"
    }
   ],
   "source": [
    "grupos = df[df['deposit'] == 'yes'].groupby('Perfil').size()\n",
    "grupos"
   ]
  },
  {
   "cell_type": "code",
   "execution_count": null,
   "id": "54a90bd9",
   "metadata": {},
   "outputs": [
    {
     "data": {
      "text/plain": [
       "Perfil\n",
       "Adultxs            3987\n",
       "Divorciadxs        2435\n",
       "Gen Z & Boomers    2260\n",
       "Millenials         4399\n",
       "Name: tiene_producto, dtype: int64"
      ]
     },
     "execution_count": 35,
     "metadata": {},
     "output_type": "execute_result"
    }
   ],
   "source": [
    "df['tiene_producto'] = ((df['housing'] == 'yes') | (df['deposit'] == 'yes') | (df['loan'] == 'yes')).astype(int)\n",
    "\n",
    "productoDf = df[df['tiene_producto'] == 1].groupby('Perfil')['tiene_producto'].count()\n",
    "productoDf"
   ]
  },
  {
   "cell_type": "markdown",
   "id": "d29838ca",
   "metadata": {},
   "source": [
    "Conteo de filas y % por producto (Gen Z & Boomers)"
   ]
  },
  {
   "cell_type": "code",
   "execution_count": null,
   "id": "c7f81931",
   "metadata": {},
   "outputs": [],
   "source": [
    "conteoHousingZ = df[(df['housing'] == 'yes') & (df['Perfil'] == 'Gen Z & Boomers')].shape[0] #747\n",
    "# print(conteoHousingZ)\n",
    "\n",
    "conteoLoanZ = df[(df['loan'] == 'yes') & (df['Perfil'] == 'Gen Z & Boomers')].shape[0] #247\n",
    "# print(conteoLoanZ)\n",
    "\n",
    "conteoDepositZ = df[(df['deposit'] == 'yes') & (df['Perfil'] == 'Gen Z & Boomers')].shape[0] #1722\n",
    "# print(conteoDepositZ)\n",
    "\n",
    "conteoZ = conteoHousingZ + conteoDepositZ + conteoLoanZ #2716\n",
    "# print(conteoZ) "
   ]
  },
  {
   "cell_type": "code",
   "execution_count": 7,
   "id": "08c033fb",
   "metadata": {},
   "outputs": [
    {
     "name": "stdout",
     "output_type": "stream",
     "text": [
      "Porcentaje Housing: 27.5 %\n",
      "Porcentaje Loan: 9.09 %\n",
      "Porcentaje Deposit: 63.4 %\n"
     ]
    }
   ],
   "source": [
    "porcentajeHousingZ = round((conteoHousingZ*100)/conteoZ,2)\n",
    "print(f\"Porcentaje Housing: {porcentajeHousingZ} %\")\n",
    "\n",
    "porcentajeLoanZ = round((conteoLoanZ*100)/conteoZ,2)\n",
    "print(f\"Porcentaje Loan: {porcentajeLoanZ} %\")\n",
    "\n",
    "porcentajeDepositZ = round((conteoDepositZ*100)/conteoZ,2)\n",
    "print(f\"Porcentaje Deposit: {porcentajeDepositZ} %\")"
   ]
  },
  {
   "cell_type": "code",
   "execution_count": 28,
   "id": "78cd761e",
   "metadata": {},
   "outputs": [
    {
     "name": "stdout",
     "output_type": "stream",
     "text": [
      "Porcentaje Total Housing: 4.29 %\n",
      "Porcentaje Total Loan: 1.42 %\n",
      "Porcentaje Total Deposit: 9.88 %\n"
     ]
    }
   ],
   "source": [
    "porcentajeTotalHousingZ = round((conteoHousingZ*100)/conteoAll,2)\n",
    "print(f\"Porcentaje Total Housing: {porcentajeTotalHousingZ} %\")\n",
    "\n",
    "porcentajeTotalLoanZ = round((conteoLoanZ*100)/conteoAll,2)\n",
    "print(f\"Porcentaje Total Loan: {porcentajeTotalLoanZ} %\")\n",
    "\n",
    "porcentajeTotalDepositZ = round((conteoDepositZ*100)/conteoAll,2)\n",
    "print(f\"Porcentaje Total Deposit: {porcentajeTotalDepositZ} %\")"
   ]
  },
  {
   "cell_type": "markdown",
   "id": "faa2c0d8",
   "metadata": {},
   "source": [
    "Conteo de filas y % por producto (Millenials)"
   ]
  },
  {
   "cell_type": "code",
   "execution_count": 8,
   "id": "4288d431",
   "metadata": {},
   "outputs": [],
   "source": [
    "conteoHousingM = df[(df['housing'] == 'yes') & (df['Perfil'] == 'Millenials')].shape[0] #2714\n",
    "# print(conteoHousingM)\n",
    "\n",
    "conteoLoanM = df[(df['loan'] == 'yes') & (df['Perfil'] == 'Millenials')].shape[0] #713\n",
    "# print(conteoLoanM)\n",
    "\n",
    "conteoDepositM = df[(df['deposit'] == 'yes') & (df['Perfil'] == 'Millenials')].shape[0] #2592\n",
    "# print(conteoDepositM)\n",
    "\n",
    "conteoM = conteoHousingM + conteoDepositM + conteoLoanM #6019\n",
    "# print(conteoM) "
   ]
  },
  {
   "cell_type": "code",
   "execution_count": 9,
   "id": "2624f07d",
   "metadata": {},
   "outputs": [
    {
     "name": "stdout",
     "output_type": "stream",
     "text": [
      "Porcentaje Housing: 45.09 %\n",
      "Porcentaje Loan: 11.85 %\n",
      "Porcentaje Deposit: 43.06 %\n"
     ]
    }
   ],
   "source": [
    "porcentajeHousingM = round((conteoHousingM*100)/conteoM,2)\n",
    "print(f\"Porcentaje Housing: {porcentajeHousingM} %\")\n",
    "\n",
    "porcentajeLoanM = round((conteoLoanM*100)/conteoM,2)\n",
    "print(f\"Porcentaje Loan: {porcentajeLoanM} %\")\n",
    "\n",
    "porcentajeDepositM = round((conteoDepositM*100)/conteoM,2)\n",
    "print(f\"Porcentaje Deposit: {porcentajeDepositM} %\")"
   ]
  },
  {
   "cell_type": "code",
   "execution_count": 29,
   "id": "91f910b0",
   "metadata": {},
   "outputs": [
    {
     "name": "stdout",
     "output_type": "stream",
     "text": [
      "Porcentaje Total Housing: 15.57 %\n",
      "Porcentaje Total Loan: 4.09 %\n",
      "Porcentaje Total Deposit: 14.87 %\n"
     ]
    }
   ],
   "source": [
    "porcentajeTotalHousingM = round((conteoHousingM*100)/conteoAll,2)\n",
    "print(f\"Porcentaje Total Housing: {porcentajeTotalHousingM} %\")\n",
    "\n",
    "porcentajeTotalLoanM = round((conteoLoanM*100)/conteoAll,2)\n",
    "print(f\"Porcentaje Total Loan: {porcentajeTotalLoanM} %\")\n",
    "\n",
    "porcentajeTotalDepositM = round((conteoDepositM*100)/conteoAll,2)\n",
    "print(f\"Porcentaje Total Deposit: {porcentajeTotalDepositM} %\")"
   ]
  },
  {
   "cell_type": "markdown",
   "id": "d80bc442",
   "metadata": {},
   "source": [
    "Conteo de filas y % por producto (Adultxs)"
   ]
  },
  {
   "cell_type": "code",
   "execution_count": 10,
   "id": "c8d99124",
   "metadata": {},
   "outputs": [],
   "source": [
    "conteoHousingA = df[(df['housing'] == 'yes') & (df['Perfil'] == 'Adultxs')].shape[0] #2761\n",
    "# print(conteoHousingA)\n",
    "\n",
    "conteoLoanA = df[(df['loan'] == 'yes') & (df['Perfil'] == 'Adultxs')].shape[0] #620\n",
    "# print(conteoLoanA)\n",
    "\n",
    "conteoDepositA = df[(df['deposit'] == 'yes') & (df['Perfil'] == 'Adultxs')].shape[0] #2036\n",
    "# print(conteoDepositA)\n",
    "\n",
    "conteoA = conteoHousingA + conteoDepositA + conteoLoanA #5417\n",
    "# print(conteoA) "
   ]
  },
  {
   "cell_type": "code",
   "execution_count": 11,
   "id": "bb04d098",
   "metadata": {},
   "outputs": [
    {
     "name": "stdout",
     "output_type": "stream",
     "text": [
      "Porcentaje Housing: 50.97 %\n",
      "Porcentaje Loan: 11.45 %\n",
      "Porcentaje Deposit: 37.59 %\n"
     ]
    }
   ],
   "source": [
    "porcentajeHousingA = round((conteoHousingA*100)/conteoA,2)\n",
    "print(f\"Porcentaje Housing: {porcentajeHousingA} %\")\n",
    "\n",
    "porcentajeLoanA = round((conteoLoanA*100)/conteoA,2)\n",
    "print(f\"Porcentaje Loan: {porcentajeLoanA} %\")\n",
    "\n",
    "porcentajeDepositA = round((conteoDepositA*100)/conteoA,2)\n",
    "print(f\"Porcentaje Deposit: {porcentajeDepositA} %\")"
   ]
  },
  {
   "cell_type": "code",
   "execution_count": 30,
   "id": "b1433f32",
   "metadata": {},
   "outputs": [
    {
     "name": "stdout",
     "output_type": "stream",
     "text": [
      "Porcentaje Total Housing: 15.84 %\n",
      "Porcentaje Total Loan: 3.56 %\n",
      "Porcentaje Total Deposit: 11.68 %\n"
     ]
    }
   ],
   "source": [
    "porcentajeTotalHousingA = round((conteoHousingA*100)/conteoAll,2)\n",
    "print(f\"Porcentaje Total Housing: {porcentajeTotalHousingA} %\")\n",
    "\n",
    "porcentajeTotalLoanA = round((conteoLoanA*100)/conteoAll,2)\n",
    "print(f\"Porcentaje Total Loan: {porcentajeTotalLoanA} %\")\n",
    "\n",
    "porcentajeTotalDepositA = round((conteoDepositA*100)/conteoAll,2)\n",
    "print(f\"Porcentaje Total Deposit: {porcentajeTotalDepositA} %\")"
   ]
  },
  {
   "cell_type": "markdown",
   "id": "0d0a278c",
   "metadata": {},
   "source": [
    "Conteo de filas y % por producto (Divorciadxs)"
   ]
  },
  {
   "cell_type": "code",
   "execution_count": 12,
   "id": "4594a0a1",
   "metadata": {},
   "outputs": [],
   "source": [
    "conteoHousingD = df[(df['housing'] == 'yes') & (df['Perfil'] == 'Divorciadxs')].shape[0] #1392\n",
    "# print(conteoHousingD)\n",
    "\n",
    "conteoLoanD = df[(df['loan'] == 'yes') & (df['Perfil'] == 'Divorciadxs')].shape[0] #539\n",
    "# print(conteoLoanD)\n",
    "\n",
    "conteoDepositD = df[(df['deposit'] == 'yes') & (df['Perfil'] == 'Divorciadxs')].shape[0] #1347\n",
    "# print(conteoDepositD)\n",
    "\n",
    "conteoD = conteoHousingD + conteoDepositD + conteoLoanD #3278\n",
    "# print(conteoD) "
   ]
  },
  {
   "cell_type": "code",
   "execution_count": 13,
   "id": "2efa2a16",
   "metadata": {},
   "outputs": [
    {
     "name": "stdout",
     "output_type": "stream",
     "text": [
      "Porcentaje Housing: 42.46 %\n",
      "Porcentaje Loan: 16.44 %\n",
      "Porcentaje Deposit: 41.09 %\n"
     ]
    }
   ],
   "source": [
    "porcentajeHousingD = round((conteoHousingD*100)/conteoD,2)\n",
    "print(f\"Porcentaje Housing: {porcentajeHousingD} %\")\n",
    "\n",
    "porcentajeLoanD = round((conteoLoanD*100)/conteoD,2)\n",
    "print(f\"Porcentaje Loan: {porcentajeLoanD} %\")\n",
    "\n",
    "porcentajeDepositD = round((conteoDepositD*100)/conteoD,2)\n",
    "print(f\"Porcentaje Deposit: {porcentajeDepositD} %\")"
   ]
  },
  {
   "cell_type": "code",
   "execution_count": 31,
   "id": "94302e54",
   "metadata": {},
   "outputs": [
    {
     "name": "stdout",
     "output_type": "stream",
     "text": [
      "Porcentaje Total Housing: 7.99 %\n",
      "Porcentaje Total Loan: 3.09 %\n",
      "Porcentaje Total Deposit: 7.73 %\n"
     ]
    }
   ],
   "source": [
    "porcentajeTotalHousingD = round((conteoHousingD*100)/conteoAll,2)\n",
    "print(f\"Porcentaje Total Housing: {porcentajeTotalHousingD} %\")\n",
    "\n",
    "porcentajeTotalLoanD = round((conteoLoanD*100)/conteoAll,2)\n",
    "print(f\"Porcentaje Total Loan: {porcentajeTotalLoanD} %\")\n",
    "\n",
    "porcentajeTotalDepositD = round((conteoDepositD*100)/conteoAll,2)\n",
    "print(f\"Porcentaje Total Deposit: {porcentajeTotalDepositD} %\")"
   ]
  },
  {
   "cell_type": "markdown",
   "id": "9058bb21",
   "metadata": {},
   "source": [
    "Saldo Medio por Perfil de Cliente y general"
   ]
  },
  {
   "cell_type": "code",
   "execution_count": 14,
   "id": "325cc31b",
   "metadata": {},
   "outputs": [
    {
     "data": {
      "text/plain": [
       "Perfil\n",
       "Adultxs            1435.35\n",
       "Divorciadxs        1540.26\n",
       "Gen Z & Boomers    2034.52\n",
       "Millenials         1271.19\n",
       "Name: balance, dtype: float64"
      ]
     },
     "execution_count": 14,
     "metadata": {},
     "output_type": "execute_result"
    }
   ],
   "source": [
    "saldoMedioPerfil = round(df.groupby('Perfil')[\"balance\"].mean(),2)\n",
    "saldoMedioPerfil"
   ]
  },
  {
   "cell_type": "code",
   "execution_count": 15,
   "id": "a3b23390",
   "metadata": {},
   "outputs": [
    {
     "data": {
      "text/plain": [
       "np.float64(1508.93)"
      ]
     },
     "execution_count": 15,
     "metadata": {},
     "output_type": "execute_result"
    }
   ],
   "source": [
    "saldoMedioGeneral = round(df[\"balance\"].mean(),2)\n",
    "saldoMedioGeneral"
   ]
  },
  {
   "cell_type": "code",
   "execution_count": 16,
   "id": "1d2ef304",
   "metadata": {},
   "outputs": [
    {
     "data": {
      "text/plain": [
       "np.float64(3164.89)"
      ]
     },
     "execution_count": 16,
     "metadata": {},
     "output_type": "execute_result"
    }
   ],
   "source": [
    "saldoMedioDesv = round(df[\"balance\"].std(),2)\n",
    "saldoMedioDesv"
   ]
  },
  {
   "cell_type": "markdown",
   "id": "7f65e40e",
   "metadata": {},
   "source": [
    "Tasa de incumplimiento (Total)"
   ]
  },
  {
   "cell_type": "code",
   "execution_count": 17,
   "id": "0a139bc7",
   "metadata": {},
   "outputs": [
    {
     "name": "stdout",
     "output_type": "stream",
     "text": [
      "47.62\n"
     ]
    }
   ],
   "source": [
    "defaultYes = df[(df['deposit'] == 'yes')].shape[0] #7697\n",
    "# print(defaultYes)\n",
    "defaultTotal = df.shape[0] #16162\n",
    "# print(defaultTotal)\n",
    "\n",
    "tasaDefautYes = round((defaultYes * 100)/defaultTotal, 2)\n",
    "print (tasaDefautYes)"
   ]
  },
  {
   "cell_type": "markdown",
   "id": "6b342095",
   "metadata": {},
   "source": [
    "Tasa de incumplimiento (Gen Z & Boomers)"
   ]
  },
  {
   "cell_type": "code",
   "execution_count": 18,
   "id": "5cffd525",
   "metadata": {},
   "outputs": [
    {
     "name": "stdout",
     "output_type": "stream",
     "text": [
      "60.0\n"
     ]
    }
   ],
   "source": [
    "defaultYesZ = df[(df['deposit'] == 'yes') & (df['Perfil'] == 'Gen Z & Boomers')].shape[0] #1722\n",
    "# print(defaultYesZ)\n",
    "defaultTotalZ = df[(df['Perfil'] == 'Gen Z & Boomers')].shape[0] #2870\n",
    "# print(defaultTotalZ)\n",
    "\n",
    "tasaDefautYesZ = round((defaultYesZ * 100)/defaultTotalZ, 2)\n",
    "print(tasaDefautYesZ)"
   ]
  },
  {
   "cell_type": "markdown",
   "id": "91bebe99",
   "metadata": {},
   "source": [
    "Tasa de incumplimiento (Millenials)"
   ]
  },
  {
   "cell_type": "code",
   "execution_count": 19,
   "id": "62d80d73",
   "metadata": {},
   "outputs": [
    {
     "name": "stdout",
     "output_type": "stream",
     "text": [
      "49.25\n"
     ]
    }
   ],
   "source": [
    "defaultYesM = df[(df['deposit'] == 'yes') & (df['Perfil'] == 'Millenials')].shape[0] #2592\n",
    "# print(defaultYesM)\n",
    "defaultTotalM = df[(df['Perfil'] == 'Millenials')].shape[0] #5263\n",
    "# print(defaultTotalM)\n",
    "\n",
    "tasaDefautYesM = round((defaultYesM * 100)/defaultTotalM, 2)\n",
    "print(tasaDefautYesM)"
   ]
  },
  {
   "cell_type": "markdown",
   "id": "3671f16c",
   "metadata": {},
   "source": [
    "Tasa de incumplimiento (Adultxs)"
   ]
  },
  {
   "cell_type": "code",
   "execution_count": 20,
   "id": "16b1d88d",
   "metadata": {},
   "outputs": [
    {
     "name": "stdout",
     "output_type": "stream",
     "text": [
      "41.98\n"
     ]
    }
   ],
   "source": [
    "defaultYesA = df[(df['deposit'] == 'yes') & (df['Perfil'] == 'Adultxs')].shape[0] #2036\n",
    "# print(defaultYesA)\n",
    "defaultTotalA = df[(df['Perfil'] == 'Adultxs')].shape[0] #4850\n",
    "# print(defaultTotalA)\n",
    "\n",
    "tasaDefautYesA = round((defaultYesA * 100)/defaultTotalA, 2)\n",
    "print(tasaDefautYesA)"
   ]
  },
  {
   "cell_type": "markdown",
   "id": "546eb126",
   "metadata": {},
   "source": [
    "Tasa de incumplimiento (Divorciadxs)"
   ]
  },
  {
   "cell_type": "code",
   "execution_count": 21,
   "id": "dc431b00",
   "metadata": {},
   "outputs": [
    {
     "name": "stdout",
     "output_type": "stream",
     "text": [
      "42.37\n"
     ]
    }
   ],
   "source": [
    "defaultYesD = df[(df['deposit'] == 'yes') & (df['Perfil'] == 'Divorciadxs')].shape[0] #1347\n",
    "# print(defaultYesD)\n",
    "defaultTotalD = df[(df['Perfil'] == 'Divorciadxs')].shape[0] #3179\n",
    "# print(defaultTotalD)\n",
    "\n",
    "tasaDefautYesD = round((defaultYesD * 100)/defaultTotalD, 2)\n",
    "print(tasaDefautYesD)"
   ]
  },
  {
   "cell_type": "markdown",
   "id": "603b2558",
   "metadata": {},
   "source": [
    "Tamaño de la muestra por Perfil"
   ]
  },
  {
   "cell_type": "code",
   "execution_count": 22,
   "id": "f8527eac",
   "metadata": {},
   "outputs": [
    {
     "data": {
      "text/plain": [
       "Perfil\n",
       "Adultxs            4850\n",
       "Divorciadxs        3179\n",
       "Gen Z & Boomers    2870\n",
       "Millenials         5263\n",
       "Name: id, dtype: int64"
      ]
     },
     "execution_count": 22,
     "metadata": {},
     "output_type": "execute_result"
    }
   ],
   "source": [
    "tamañoMuestra = round(df.groupby('Perfil')['id'].count(),2)\n",
    "tamañoMuestra"
   ]
  }
 ],
 "metadata": {
  "kernelspec": {
   "display_name": "Python 3",
   "language": "python",
   "name": "python3"
  },
  "language_info": {
   "codemirror_mode": {
    "name": "ipython",
    "version": 3
   },
   "file_extension": ".py",
   "mimetype": "text/x-python",
   "name": "python",
   "nbconvert_exporter": "python",
   "pygments_lexer": "ipython3",
   "version": "3.13.3"
  }
 },
 "nbformat": 4,
 "nbformat_minor": 5
}
