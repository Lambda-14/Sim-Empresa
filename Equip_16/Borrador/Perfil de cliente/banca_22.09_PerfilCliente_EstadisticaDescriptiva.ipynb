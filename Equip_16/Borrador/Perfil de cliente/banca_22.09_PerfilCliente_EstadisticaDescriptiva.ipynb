{
 "cells": [
  {
   "cell_type": "code",
   "execution_count": 98,
   "id": "4280525e",
   "metadata": {},
   "outputs": [],
   "source": [
    "import pandas as pd\n",
    "import matplotlib.pyplot as plt\n",
    "import seaborn as sns\n",
    "import plotly_express as px"
   ]
  },
  {
   "cell_type": "code",
   "execution_count": 3,
   "id": "fe391c0c",
   "metadata": {},
   "outputs": [],
   "source": [
    "df = pd.read_csv(r\"C:\\Users\\Maeloc\\Desktop\\IT_Academy\\Simulador\\repo\\ProjecteData\\Equip_16\\Data\\banca_22.09_dataset.csv\")"
   ]
  },
  {
   "cell_type": "markdown",
   "id": "8e1bd49b",
   "metadata": {},
   "source": [
    "Conteo de filas y % por producto (Totales)"
   ]
  },
  {
   "cell_type": "code",
   "execution_count": 4,
   "id": "9d475293",
   "metadata": {},
   "outputs": [],
   "source": [
    "conteoHousing = df[df['housing'] == 'yes'].shape[0]  #7614\n",
    "# print(conteoHousing)\n",
    "\n",
    "conteoLoan = df[df['loan'] == 'yes'].shape[0] #2119\n",
    "# print(conteoLoan)\n",
    "\n",
    "conteoDeposit = df[df['deposit'] == 'yes'].shape[0] #7697\n",
    "# print(conteoDeposit)\n",
    "\n",
    "conteoAll = conteoHousing + conteoDeposit + conteoLoan #17430\n",
    "# print(conteoAll) "
   ]
  },
  {
   "cell_type": "code",
   "execution_count": 5,
   "id": "87608681",
   "metadata": {},
   "outputs": [
    {
     "name": "stdout",
     "output_type": "stream",
     "text": [
      "Porcentaje Housing: 43.68 %\n",
      "Porcentaje Loan: 12.16 %\n",
      "Porcentaje Deposit: 44.16 %\n"
     ]
    }
   ],
   "source": [
    "porcentajeHousing = round((conteoHousing*100)/conteoAll,2)\n",
    "print(f\"Porcentaje Housing: {porcentajeHousing} %\")\n",
    "\n",
    "porcentajeLoan = round((conteoLoan*100)/conteoAll,2)\n",
    "print(f\"Porcentaje Loan: {porcentajeLoan} %\")\n",
    "\n",
    "porcentajeDeposit = round((conteoDeposit*100)/conteoAll,2)\n",
    "print(f\"Porcentaje Deposit: {porcentajeDeposit} %\")"
   ]
  },
  {
   "cell_type": "code",
   "execution_count": 6,
   "id": "67e5412b",
   "metadata": {},
   "outputs": [
    {
     "data": {
      "text/plain": [
       "Perfil\n",
       "Adultxs            2036\n",
       "Divorciadxs        1347\n",
       "Gen Z & Boomers    1722\n",
       "Millenials         2592\n",
       "dtype: int64"
      ]
     },
     "execution_count": 6,
     "metadata": {},
     "output_type": "execute_result"
    }
   ],
   "source": [
    "grupos = df[df['deposit'] == 'yes'].groupby('Perfil').size()\n",
    "grupos"
   ]
  },
  {
   "cell_type": "code",
   "execution_count": 35,
   "id": "632d1d4b",
   "metadata": {},
   "outputs": [
    {
     "data": {
      "application/vnd.plotly.v1+json": {
       "config": {
        "plotlyServerURL": "https://plot.ly"
       },
       "data": [
        {
         "domain": {
          "x": [
           0,
           1
          ],
          "y": [
           0,
           1
          ]
         },
         "hovertemplate": "Perfil=%{label}<br>Cantidad=%{value}<extra></extra>",
         "labels": [
          "Adultxs",
          "Divorciadxs",
          "Gen Z & Boomers",
          "Millenials"
         ],
         "legendgroup": "",
         "name": "",
         "showlegend": true,
         "type": "pie",
         "values": {
          "bdata": "9AdDBboGIAo=",
          "dtype": "i2"
         }
        }
       ],
       "layout": {
        "legend": {
         "tracegroupgap": 0
        },
        "template": {
         "data": {
          "bar": [
           {
            "error_x": {
             "color": "#2a3f5f"
            },
            "error_y": {
             "color": "#2a3f5f"
            },
            "marker": {
             "line": {
              "color": "#E5ECF6",
              "width": 0.5
             },
             "pattern": {
              "fillmode": "overlay",
              "size": 10,
              "solidity": 0.2
             }
            },
            "type": "bar"
           }
          ],
          "barpolar": [
           {
            "marker": {
             "line": {
              "color": "#E5ECF6",
              "width": 0.5
             },
             "pattern": {
              "fillmode": "overlay",
              "size": 10,
              "solidity": 0.2
             }
            },
            "type": "barpolar"
           }
          ],
          "carpet": [
           {
            "aaxis": {
             "endlinecolor": "#2a3f5f",
             "gridcolor": "white",
             "linecolor": "white",
             "minorgridcolor": "white",
             "startlinecolor": "#2a3f5f"
            },
            "baxis": {
             "endlinecolor": "#2a3f5f",
             "gridcolor": "white",
             "linecolor": "white",
             "minorgridcolor": "white",
             "startlinecolor": "#2a3f5f"
            },
            "type": "carpet"
           }
          ],
          "choropleth": [
           {
            "colorbar": {
             "outlinewidth": 0,
             "ticks": ""
            },
            "type": "choropleth"
           }
          ],
          "contour": [
           {
            "colorbar": {
             "outlinewidth": 0,
             "ticks": ""
            },
            "colorscale": [
             [
              0,
              "#0d0887"
             ],
             [
              0.1111111111111111,
              "#46039f"
             ],
             [
              0.2222222222222222,
              "#7201a8"
             ],
             [
              0.3333333333333333,
              "#9c179e"
             ],
             [
              0.4444444444444444,
              "#bd3786"
             ],
             [
              0.5555555555555556,
              "#d8576b"
             ],
             [
              0.6666666666666666,
              "#ed7953"
             ],
             [
              0.7777777777777778,
              "#fb9f3a"
             ],
             [
              0.8888888888888888,
              "#fdca26"
             ],
             [
              1,
              "#f0f921"
             ]
            ],
            "type": "contour"
           }
          ],
          "contourcarpet": [
           {
            "colorbar": {
             "outlinewidth": 0,
             "ticks": ""
            },
            "type": "contourcarpet"
           }
          ],
          "heatmap": [
           {
            "colorbar": {
             "outlinewidth": 0,
             "ticks": ""
            },
            "colorscale": [
             [
              0,
              "#0d0887"
             ],
             [
              0.1111111111111111,
              "#46039f"
             ],
             [
              0.2222222222222222,
              "#7201a8"
             ],
             [
              0.3333333333333333,
              "#9c179e"
             ],
             [
              0.4444444444444444,
              "#bd3786"
             ],
             [
              0.5555555555555556,
              "#d8576b"
             ],
             [
              0.6666666666666666,
              "#ed7953"
             ],
             [
              0.7777777777777778,
              "#fb9f3a"
             ],
             [
              0.8888888888888888,
              "#fdca26"
             ],
             [
              1,
              "#f0f921"
             ]
            ],
            "type": "heatmap"
           }
          ],
          "histogram": [
           {
            "marker": {
             "pattern": {
              "fillmode": "overlay",
              "size": 10,
              "solidity": 0.2
             }
            },
            "type": "histogram"
           }
          ],
          "histogram2d": [
           {
            "colorbar": {
             "outlinewidth": 0,
             "ticks": ""
            },
            "colorscale": [
             [
              0,
              "#0d0887"
             ],
             [
              0.1111111111111111,
              "#46039f"
             ],
             [
              0.2222222222222222,
              "#7201a8"
             ],
             [
              0.3333333333333333,
              "#9c179e"
             ],
             [
              0.4444444444444444,
              "#bd3786"
             ],
             [
              0.5555555555555556,
              "#d8576b"
             ],
             [
              0.6666666666666666,
              "#ed7953"
             ],
             [
              0.7777777777777778,
              "#fb9f3a"
             ],
             [
              0.8888888888888888,
              "#fdca26"
             ],
             [
              1,
              "#f0f921"
             ]
            ],
            "type": "histogram2d"
           }
          ],
          "histogram2dcontour": [
           {
            "colorbar": {
             "outlinewidth": 0,
             "ticks": ""
            },
            "colorscale": [
             [
              0,
              "#0d0887"
             ],
             [
              0.1111111111111111,
              "#46039f"
             ],
             [
              0.2222222222222222,
              "#7201a8"
             ],
             [
              0.3333333333333333,
              "#9c179e"
             ],
             [
              0.4444444444444444,
              "#bd3786"
             ],
             [
              0.5555555555555556,
              "#d8576b"
             ],
             [
              0.6666666666666666,
              "#ed7953"
             ],
             [
              0.7777777777777778,
              "#fb9f3a"
             ],
             [
              0.8888888888888888,
              "#fdca26"
             ],
             [
              1,
              "#f0f921"
             ]
            ],
            "type": "histogram2dcontour"
           }
          ],
          "mesh3d": [
           {
            "colorbar": {
             "outlinewidth": 0,
             "ticks": ""
            },
            "type": "mesh3d"
           }
          ],
          "parcoords": [
           {
            "line": {
             "colorbar": {
              "outlinewidth": 0,
              "ticks": ""
             }
            },
            "type": "parcoords"
           }
          ],
          "pie": [
           {
            "automargin": true,
            "type": "pie"
           }
          ],
          "scatter": [
           {
            "fillpattern": {
             "fillmode": "overlay",
             "size": 10,
             "solidity": 0.2
            },
            "type": "scatter"
           }
          ],
          "scatter3d": [
           {
            "line": {
             "colorbar": {
              "outlinewidth": 0,
              "ticks": ""
             }
            },
            "marker": {
             "colorbar": {
              "outlinewidth": 0,
              "ticks": ""
             }
            },
            "type": "scatter3d"
           }
          ],
          "scattercarpet": [
           {
            "marker": {
             "colorbar": {
              "outlinewidth": 0,
              "ticks": ""
             }
            },
            "type": "scattercarpet"
           }
          ],
          "scattergeo": [
           {
            "marker": {
             "colorbar": {
              "outlinewidth": 0,
              "ticks": ""
             }
            },
            "type": "scattergeo"
           }
          ],
          "scattergl": [
           {
            "marker": {
             "colorbar": {
              "outlinewidth": 0,
              "ticks": ""
             }
            },
            "type": "scattergl"
           }
          ],
          "scattermap": [
           {
            "marker": {
             "colorbar": {
              "outlinewidth": 0,
              "ticks": ""
             }
            },
            "type": "scattermap"
           }
          ],
          "scattermapbox": [
           {
            "marker": {
             "colorbar": {
              "outlinewidth": 0,
              "ticks": ""
             }
            },
            "type": "scattermapbox"
           }
          ],
          "scatterpolar": [
           {
            "marker": {
             "colorbar": {
              "outlinewidth": 0,
              "ticks": ""
             }
            },
            "type": "scatterpolar"
           }
          ],
          "scatterpolargl": [
           {
            "marker": {
             "colorbar": {
              "outlinewidth": 0,
              "ticks": ""
             }
            },
            "type": "scatterpolargl"
           }
          ],
          "scatterternary": [
           {
            "marker": {
             "colorbar": {
              "outlinewidth": 0,
              "ticks": ""
             }
            },
            "type": "scatterternary"
           }
          ],
          "surface": [
           {
            "colorbar": {
             "outlinewidth": 0,
             "ticks": ""
            },
            "colorscale": [
             [
              0,
              "#0d0887"
             ],
             [
              0.1111111111111111,
              "#46039f"
             ],
             [
              0.2222222222222222,
              "#7201a8"
             ],
             [
              0.3333333333333333,
              "#9c179e"
             ],
             [
              0.4444444444444444,
              "#bd3786"
             ],
             [
              0.5555555555555556,
              "#d8576b"
             ],
             [
              0.6666666666666666,
              "#ed7953"
             ],
             [
              0.7777777777777778,
              "#fb9f3a"
             ],
             [
              0.8888888888888888,
              "#fdca26"
             ],
             [
              1,
              "#f0f921"
             ]
            ],
            "type": "surface"
           }
          ],
          "table": [
           {
            "cells": {
             "fill": {
              "color": "#EBF0F8"
             },
             "line": {
              "color": "white"
             }
            },
            "header": {
             "fill": {
              "color": "#C8D4E3"
             },
             "line": {
              "color": "white"
             }
            },
            "type": "table"
           }
          ]
         },
         "layout": {
          "annotationdefaults": {
           "arrowcolor": "#2a3f5f",
           "arrowhead": 0,
           "arrowwidth": 1
          },
          "autotypenumbers": "strict",
          "coloraxis": {
           "colorbar": {
            "outlinewidth": 0,
            "ticks": ""
           }
          },
          "colorscale": {
           "diverging": [
            [
             0,
             "#8e0152"
            ],
            [
             0.1,
             "#c51b7d"
            ],
            [
             0.2,
             "#de77ae"
            ],
            [
             0.3,
             "#f1b6da"
            ],
            [
             0.4,
             "#fde0ef"
            ],
            [
             0.5,
             "#f7f7f7"
            ],
            [
             0.6,
             "#e6f5d0"
            ],
            [
             0.7,
             "#b8e186"
            ],
            [
             0.8,
             "#7fbc41"
            ],
            [
             0.9,
             "#4d9221"
            ],
            [
             1,
             "#276419"
            ]
           ],
           "sequential": [
            [
             0,
             "#0d0887"
            ],
            [
             0.1111111111111111,
             "#46039f"
            ],
            [
             0.2222222222222222,
             "#7201a8"
            ],
            [
             0.3333333333333333,
             "#9c179e"
            ],
            [
             0.4444444444444444,
             "#bd3786"
            ],
            [
             0.5555555555555556,
             "#d8576b"
            ],
            [
             0.6666666666666666,
             "#ed7953"
            ],
            [
             0.7777777777777778,
             "#fb9f3a"
            ],
            [
             0.8888888888888888,
             "#fdca26"
            ],
            [
             1,
             "#f0f921"
            ]
           ],
           "sequentialminus": [
            [
             0,
             "#0d0887"
            ],
            [
             0.1111111111111111,
             "#46039f"
            ],
            [
             0.2222222222222222,
             "#7201a8"
            ],
            [
             0.3333333333333333,
             "#9c179e"
            ],
            [
             0.4444444444444444,
             "#bd3786"
            ],
            [
             0.5555555555555556,
             "#d8576b"
            ],
            [
             0.6666666666666666,
             "#ed7953"
            ],
            [
             0.7777777777777778,
             "#fb9f3a"
            ],
            [
             0.8888888888888888,
             "#fdca26"
            ],
            [
             1,
             "#f0f921"
            ]
           ]
          },
          "colorway": [
           "#636efa",
           "#EF553B",
           "#00cc96",
           "#ab63fa",
           "#FFA15A",
           "#19d3f3",
           "#FF6692",
           "#B6E880",
           "#FF97FF",
           "#FECB52"
          ],
          "font": {
           "color": "#2a3f5f"
          },
          "geo": {
           "bgcolor": "white",
           "lakecolor": "white",
           "landcolor": "#E5ECF6",
           "showlakes": true,
           "showland": true,
           "subunitcolor": "white"
          },
          "hoverlabel": {
           "align": "left"
          },
          "hovermode": "closest",
          "mapbox": {
           "style": "light"
          },
          "paper_bgcolor": "white",
          "plot_bgcolor": "#E5ECF6",
          "polar": {
           "angularaxis": {
            "gridcolor": "white",
            "linecolor": "white",
            "ticks": ""
           },
           "bgcolor": "#E5ECF6",
           "radialaxis": {
            "gridcolor": "white",
            "linecolor": "white",
            "ticks": ""
           }
          },
          "scene": {
           "xaxis": {
            "backgroundcolor": "#E5ECF6",
            "gridcolor": "white",
            "gridwidth": 2,
            "linecolor": "white",
            "showbackground": true,
            "ticks": "",
            "zerolinecolor": "white"
           },
           "yaxis": {
            "backgroundcolor": "#E5ECF6",
            "gridcolor": "white",
            "gridwidth": 2,
            "linecolor": "white",
            "showbackground": true,
            "ticks": "",
            "zerolinecolor": "white"
           },
           "zaxis": {
            "backgroundcolor": "#E5ECF6",
            "gridcolor": "white",
            "gridwidth": 2,
            "linecolor": "white",
            "showbackground": true,
            "ticks": "",
            "zerolinecolor": "white"
           }
          },
          "shapedefaults": {
           "line": {
            "color": "#2a3f5f"
           }
          },
          "ternary": {
           "aaxis": {
            "gridcolor": "white",
            "linecolor": "white",
            "ticks": ""
           },
           "baxis": {
            "gridcolor": "white",
            "linecolor": "white",
            "ticks": ""
           },
           "bgcolor": "#E5ECF6",
           "caxis": {
            "gridcolor": "white",
            "linecolor": "white",
            "ticks": ""
           }
          },
          "title": {
           "x": 0.05
          },
          "xaxis": {
           "automargin": true,
           "gridcolor": "white",
           "linecolor": "white",
           "ticks": "",
           "title": {
            "standoff": 15
           },
           "zerolinecolor": "white",
           "zerolinewidth": 2
          },
          "yaxis": {
           "automargin": true,
           "gridcolor": "white",
           "linecolor": "white",
           "ticks": "",
           "title": {
            "standoff": 15
           },
           "zerolinecolor": "white",
           "zerolinewidth": 2
          }
         }
        },
        "title": {
         "text": "Distribución de depósitos por perfil"
        }
       }
      }
     },
     "metadata": {},
     "output_type": "display_data"
    }
   ],
   "source": [
    "grupos_df = grupos.reset_index()\n",
    "grupos_df.columns = ['Perfil', 'Cantidad']\n",
    "\n",
    "fig = px.pie(grupos_df, names='Perfil', values='Cantidad', title='Distribución de depósitos por perfil')\n",
    "fig.show()\n"
   ]
  },
  {
   "cell_type": "code",
   "execution_count": 7,
   "id": "54a90bd9",
   "metadata": {},
   "outputs": [
    {
     "data": {
      "text/plain": [
       "Perfil\n",
       "Adultxs            3987\n",
       "Divorciadxs        2435\n",
       "Gen Z & Boomers    2260\n",
       "Millenials         4399\n",
       "Name: tiene_producto, dtype: int64"
      ]
     },
     "execution_count": 7,
     "metadata": {},
     "output_type": "execute_result"
    }
   ],
   "source": [
    "df['tiene_producto'] = ((df['housing'] == 'yes') | (df['deposit'] == 'yes') | (df['loan'] == 'yes')).astype(int)\n",
    "\n",
    "productoDf = df[df['tiene_producto'] == 1].groupby('Perfil')['tiene_producto'].count()\n",
    "productoDf"
   ]
  },
  {
   "cell_type": "markdown",
   "id": "d29838ca",
   "metadata": {},
   "source": [
    "Conteo de filas y % por producto (Gen Z & Boomers)"
   ]
  },
  {
   "cell_type": "code",
   "execution_count": 8,
   "id": "c7f81931",
   "metadata": {},
   "outputs": [],
   "source": [
    "conteoHousingZ = df[(df['housing'] == 'yes') & (df['Perfil'] == 'Gen Z & Boomers')].shape[0] #747\n",
    "# print(conteoHousingZ)\n",
    "\n",
    "conteoLoanZ = df[(df['loan'] == 'yes') & (df['Perfil'] == 'Gen Z & Boomers')].shape[0] #247\n",
    "# print(conteoLoanZ)\n",
    "\n",
    "conteoDepositZ = df[(df['deposit'] == 'yes') & (df['Perfil'] == 'Gen Z & Boomers')].shape[0] #1722\n",
    "# print(conteoDepositZ)\n",
    "\n",
    "conteoZ = conteoHousingZ + conteoDepositZ + conteoLoanZ #2716\n",
    "# print(conteoZ) "
   ]
  },
  {
   "cell_type": "code",
   "execution_count": 9,
   "id": "08c033fb",
   "metadata": {},
   "outputs": [
    {
     "name": "stdout",
     "output_type": "stream",
     "text": [
      "Porcentaje Housing: 27.5 %\n",
      "Porcentaje Loan: 9.09 %\n",
      "Porcentaje Deposit: 63.4 %\n"
     ]
    }
   ],
   "source": [
    "porcentajeHousingZ = round((conteoHousingZ*100)/conteoZ,2)\n",
    "print(f\"Porcentaje Housing: {porcentajeHousingZ} %\")\n",
    "\n",
    "porcentajeLoanZ = round((conteoLoanZ*100)/conteoZ,2)\n",
    "print(f\"Porcentaje Loan: {porcentajeLoanZ} %\")\n",
    "\n",
    "porcentajeDepositZ = round((conteoDepositZ*100)/conteoZ,2)\n",
    "print(f\"Porcentaje Deposit: {porcentajeDepositZ} %\")"
   ]
  },
  {
   "cell_type": "code",
   "execution_count": 10,
   "id": "78cd761e",
   "metadata": {},
   "outputs": [
    {
     "name": "stdout",
     "output_type": "stream",
     "text": [
      "Porcentaje Total Housing: 4.29 %\n",
      "Porcentaje Total Loan: 1.42 %\n",
      "Porcentaje Total Deposit: 9.88 %\n"
     ]
    }
   ],
   "source": [
    "porcentajeTotalHousingZ = round((conteoHousingZ*100)/conteoAll,2)\n",
    "print(f\"Porcentaje Total Housing: {porcentajeTotalHousingZ} %\")\n",
    "\n",
    "porcentajeTotalLoanZ = round((conteoLoanZ*100)/conteoAll,2)\n",
    "print(f\"Porcentaje Total Loan: {porcentajeTotalLoanZ} %\")\n",
    "\n",
    "porcentajeTotalDepositZ = round((conteoDepositZ*100)/conteoAll,2)\n",
    "print(f\"Porcentaje Total Deposit: {porcentajeTotalDepositZ} %\")"
   ]
  },
  {
   "cell_type": "markdown",
   "id": "faa2c0d8",
   "metadata": {},
   "source": [
    "Conteo de filas y % por producto (Millenials)"
   ]
  },
  {
   "cell_type": "code",
   "execution_count": 11,
   "id": "4288d431",
   "metadata": {},
   "outputs": [],
   "source": [
    "conteoHousingM = df[(df['housing'] == 'yes') & (df['Perfil'] == 'Millenials')].shape[0] #2714\n",
    "# print(conteoHousingM)\n",
    "\n",
    "conteoLoanM = df[(df['loan'] == 'yes') & (df['Perfil'] == 'Millenials')].shape[0] #713\n",
    "# print(conteoLoanM)\n",
    "\n",
    "conteoDepositM = df[(df['deposit'] == 'yes') & (df['Perfil'] == 'Millenials')].shape[0] #2592\n",
    "# print(conteoDepositM)\n",
    "\n",
    "conteoM = conteoHousingM + conteoDepositM + conteoLoanM #6019\n",
    "# print(conteoM) "
   ]
  },
  {
   "cell_type": "code",
   "execution_count": 12,
   "id": "2624f07d",
   "metadata": {},
   "outputs": [
    {
     "name": "stdout",
     "output_type": "stream",
     "text": [
      "Porcentaje Housing: 45.09 %\n",
      "Porcentaje Loan: 11.85 %\n",
      "Porcentaje Deposit: 43.06 %\n"
     ]
    }
   ],
   "source": [
    "porcentajeHousingM = round((conteoHousingM*100)/conteoM,2)\n",
    "print(f\"Porcentaje Housing: {porcentajeHousingM} %\")\n",
    "\n",
    "porcentajeLoanM = round((conteoLoanM*100)/conteoM,2)\n",
    "print(f\"Porcentaje Loan: {porcentajeLoanM} %\")\n",
    "\n",
    "porcentajeDepositM = round((conteoDepositM*100)/conteoM,2)\n",
    "print(f\"Porcentaje Deposit: {porcentajeDepositM} %\")"
   ]
  },
  {
   "cell_type": "code",
   "execution_count": 13,
   "id": "91f910b0",
   "metadata": {},
   "outputs": [
    {
     "name": "stdout",
     "output_type": "stream",
     "text": [
      "Porcentaje Total Housing: 15.57 %\n",
      "Porcentaje Total Loan: 4.09 %\n",
      "Porcentaje Total Deposit: 14.87 %\n"
     ]
    }
   ],
   "source": [
    "porcentajeTotalHousingM = round((conteoHousingM*100)/conteoAll,2)\n",
    "print(f\"Porcentaje Total Housing: {porcentajeTotalHousingM} %\")\n",
    "\n",
    "porcentajeTotalLoanM = round((conteoLoanM*100)/conteoAll,2)\n",
    "print(f\"Porcentaje Total Loan: {porcentajeTotalLoanM} %\")\n",
    "\n",
    "porcentajeTotalDepositM = round((conteoDepositM*100)/conteoAll,2)\n",
    "print(f\"Porcentaje Total Deposit: {porcentajeTotalDepositM} %\")"
   ]
  },
  {
   "cell_type": "markdown",
   "id": "d80bc442",
   "metadata": {},
   "source": [
    "Conteo de filas y % por producto (Adultxs)"
   ]
  },
  {
   "cell_type": "code",
   "execution_count": 14,
   "id": "c8d99124",
   "metadata": {},
   "outputs": [],
   "source": [
    "conteoHousingA = df[(df['housing'] == 'yes') & (df['Perfil'] == 'Adultxs')].shape[0] #2761\n",
    "# print(conteoHousingA)\n",
    "\n",
    "conteoLoanA = df[(df['loan'] == 'yes') & (df['Perfil'] == 'Adultxs')].shape[0] #620\n",
    "# print(conteoLoanA)\n",
    "\n",
    "conteoDepositA = df[(df['deposit'] == 'yes') & (df['Perfil'] == 'Adultxs')].shape[0] #2036\n",
    "# print(conteoDepositA)\n",
    "\n",
    "conteoA = conteoHousingA + conteoDepositA + conteoLoanA #5417\n",
    "# print(conteoA) "
   ]
  },
  {
   "cell_type": "code",
   "execution_count": 15,
   "id": "bb04d098",
   "metadata": {},
   "outputs": [
    {
     "name": "stdout",
     "output_type": "stream",
     "text": [
      "Porcentaje Housing: 50.97 %\n",
      "Porcentaje Loan: 11.45 %\n",
      "Porcentaje Deposit: 37.59 %\n"
     ]
    }
   ],
   "source": [
    "porcentajeHousingA = round((conteoHousingA*100)/conteoA,2)\n",
    "print(f\"Porcentaje Housing: {porcentajeHousingA} %\")\n",
    "\n",
    "porcentajeLoanA = round((conteoLoanA*100)/conteoA,2)\n",
    "print(f\"Porcentaje Loan: {porcentajeLoanA} %\")\n",
    "\n",
    "porcentajeDepositA = round((conteoDepositA*100)/conteoA,2)\n",
    "print(f\"Porcentaje Deposit: {porcentajeDepositA} %\")"
   ]
  },
  {
   "cell_type": "code",
   "execution_count": 16,
   "id": "b1433f32",
   "metadata": {},
   "outputs": [
    {
     "name": "stdout",
     "output_type": "stream",
     "text": [
      "Porcentaje Total Housing: 15.84 %\n",
      "Porcentaje Total Loan: 3.56 %\n",
      "Porcentaje Total Deposit: 11.68 %\n"
     ]
    }
   ],
   "source": [
    "porcentajeTotalHousingA = round((conteoHousingA*100)/conteoAll,2)\n",
    "print(f\"Porcentaje Total Housing: {porcentajeTotalHousingA} %\")\n",
    "\n",
    "porcentajeTotalLoanA = round((conteoLoanA*100)/conteoAll,2)\n",
    "print(f\"Porcentaje Total Loan: {porcentajeTotalLoanA} %\")\n",
    "\n",
    "porcentajeTotalDepositA = round((conteoDepositA*100)/conteoAll,2)\n",
    "print(f\"Porcentaje Total Deposit: {porcentajeTotalDepositA} %\")"
   ]
  },
  {
   "cell_type": "markdown",
   "id": "0d0a278c",
   "metadata": {},
   "source": [
    "Conteo de filas y % por producto (Divorciadxs)"
   ]
  },
  {
   "cell_type": "code",
   "execution_count": 17,
   "id": "4594a0a1",
   "metadata": {},
   "outputs": [],
   "source": [
    "conteoHousingD = df[(df['housing'] == 'yes') & (df['Perfil'] == 'Divorciadxs')].shape[0] #1392\n",
    "# print(conteoHousingD)\n",
    "\n",
    "conteoLoanD = df[(df['loan'] == 'yes') & (df['Perfil'] == 'Divorciadxs')].shape[0] #539\n",
    "# print(conteoLoanD)\n",
    "\n",
    "conteoDepositD = df[(df['deposit'] == 'yes') & (df['Perfil'] == 'Divorciadxs')].shape[0] #1347\n",
    "# print(conteoDepositD)\n",
    "\n",
    "conteoD = conteoHousingD + conteoDepositD + conteoLoanD #3278\n",
    "# print(conteoD) "
   ]
  },
  {
   "cell_type": "code",
   "execution_count": 18,
   "id": "2efa2a16",
   "metadata": {},
   "outputs": [
    {
     "name": "stdout",
     "output_type": "stream",
     "text": [
      "Porcentaje Housing: 42.46 %\n",
      "Porcentaje Loan: 16.44 %\n",
      "Porcentaje Deposit: 41.09 %\n"
     ]
    }
   ],
   "source": [
    "porcentajeHousingD = round((conteoHousingD*100)/conteoD,2)\n",
    "print(f\"Porcentaje Housing: {porcentajeHousingD} %\")\n",
    "\n",
    "porcentajeLoanD = round((conteoLoanD*100)/conteoD,2)\n",
    "print(f\"Porcentaje Loan: {porcentajeLoanD} %\")\n",
    "\n",
    "porcentajeDepositD = round((conteoDepositD*100)/conteoD,2)\n",
    "print(f\"Porcentaje Deposit: {porcentajeDepositD} %\")"
   ]
  },
  {
   "cell_type": "code",
   "execution_count": 19,
   "id": "94302e54",
   "metadata": {},
   "outputs": [
    {
     "name": "stdout",
     "output_type": "stream",
     "text": [
      "Porcentaje Total Housing: 7.99 %\n",
      "Porcentaje Total Loan: 3.09 %\n",
      "Porcentaje Total Deposit: 7.73 %\n"
     ]
    }
   ],
   "source": [
    "porcentajeTotalHousingD = round((conteoHousingD*100)/conteoAll,2)\n",
    "print(f\"Porcentaje Total Housing: {porcentajeTotalHousingD} %\")\n",
    "\n",
    "porcentajeTotalLoanD = round((conteoLoanD*100)/conteoAll,2)\n",
    "print(f\"Porcentaje Total Loan: {porcentajeTotalLoanD} %\")\n",
    "\n",
    "porcentajeTotalDepositD = round((conteoDepositD*100)/conteoAll,2)\n",
    "print(f\"Porcentaje Total Deposit: {porcentajeTotalDepositD} %\")"
   ]
  },
  {
   "cell_type": "markdown",
   "id": "9058bb21",
   "metadata": {},
   "source": [
    "Saldo Medio por Perfil de Cliente y general"
   ]
  },
  {
   "cell_type": "code",
   "execution_count": 20,
   "id": "325cc31b",
   "metadata": {},
   "outputs": [
    {
     "data": {
      "text/plain": [
       "Perfil\n",
       "Adultxs            1435.35\n",
       "Divorciadxs        1540.26\n",
       "Gen Z & Boomers    2034.52\n",
       "Millenials         1271.19\n",
       "Name: balance, dtype: float64"
      ]
     },
     "execution_count": 20,
     "metadata": {},
     "output_type": "execute_result"
    }
   ],
   "source": [
    "saldoMedioPerfil = round(df.groupby('Perfil')[\"balance\"].mean(),2)\n",
    "saldoMedioPerfil"
   ]
  },
  {
   "cell_type": "code",
   "execution_count": 21,
   "id": "a3b23390",
   "metadata": {},
   "outputs": [
    {
     "data": {
      "text/plain": [
       "np.float64(1508.93)"
      ]
     },
     "execution_count": 21,
     "metadata": {},
     "output_type": "execute_result"
    }
   ],
   "source": [
    "saldoMedioGeneral = round(df[\"balance\"].mean(),2)\n",
    "saldoMedioGeneral"
   ]
  },
  {
   "cell_type": "markdown",
   "id": "477842ff",
   "metadata": {},
   "source": [
    "Saldo Medio por Perfil de Cliente y general (Percentil 10-90)"
   ]
  },
  {
   "cell_type": "code",
   "execution_count": 22,
   "id": "ae60f39a",
   "metadata": {},
   "outputs": [
    {
     "name": "stdout",
     "output_type": "stream",
     "text": [
      "Perfil\n",
      "Adultxs             828.32\n",
      "Divorciadxs         910.13\n",
      "Gen Z & Boomers    1041.40\n",
      "Millenials          778.02\n",
      "Name: balance, dtype: float64\n"
     ]
    }
   ],
   "source": [
    "p10 = df['balance'].quantile(0.10)\n",
    "p90 = df['balance'].quantile(0.90)\n",
    "df_filtrado = df[(df['balance'] >= p10) & (df['balance'] <= p90)]\n",
    "saldoMedioPerfil = round(df_filtrado.groupby('Perfil')['balance'].mean(), 2)\n",
    "print(saldoMedioPerfil)"
   ]
  },
  {
   "cell_type": "code",
   "execution_count": null,
   "id": "31c0bb13",
   "metadata": {},
   "outputs": [
    {
     "data": {
      "application/vnd.plotly.v1+json": {
       "config": {
        "plotlyServerURL": "https://plot.ly"
       },
       "data": [
        {
         "customdata": [
          [
           "Gen Z & Boomers"
          ],
          [
           "Divorciadxs"
          ],
          [
           "Adultxs"
          ],
          [
           "Millenials"
          ]
         ],
         "domain": {
          "x": [
           0,
           0.82
          ],
          "y": [
           0,
           0.9
          ]
         },
         "hovertemplate": "Perfil=%{customdata[0]}<br>balance=%{value}<extra></extra>",
         "labels": [
          "Gen Z & Boomers",
          "Divorciadxs",
          "Adultxs",
          "Millenials"
         ],
         "legendgroup": "",
         "marker": {
          "colors": [
           "#2F5D8A",
           "#518AB7",
           "#7FB3E6",
           "#B3D1F2"
          ]
         },
         "name": "",
         "showlegend": true,
         "textfont": {
          "size": 18
         },
         "textinfo": "label+value",
         "texttemplate": "%{label}<br>%{value} €",
         "type": "pie",
         "values": {
          "bdata": "mpmZmZlFkEDXo3A9CnGMQMP1KFyP4olAXI/C9ShQiEA=",
          "dtype": "f8"
         }
        }
       ],
       "layout": {
        "font": {
         "color": "#284669",
         "family": "Arial",
         "size": 22
        },
        "height": 700,
        "legend": {
         "font": {
          "color": "#284669",
          "size": 18
         },
         "tracegroupgap": 0,
         "traceorder": "normal",
         "x": 0.91,
         "xanchor": "left",
         "y": 0.5,
         "yanchor": "middle"
        },
        "margin": {
         "b": 20,
         "l": 20,
         "r": 60,
         "t": 50
        },
        "paper_bgcolor": "#F0F5FA",
        "template": {
         "data": {
          "bar": [
           {
            "error_x": {
             "color": "#2a3f5f"
            },
            "error_y": {
             "color": "#2a3f5f"
            },
            "marker": {
             "line": {
              "color": "#E5ECF6",
              "width": 0.5
             },
             "pattern": {
              "fillmode": "overlay",
              "size": 10,
              "solidity": 0.2
             }
            },
            "type": "bar"
           }
          ],
          "barpolar": [
           {
            "marker": {
             "line": {
              "color": "#E5ECF6",
              "width": 0.5
             },
             "pattern": {
              "fillmode": "overlay",
              "size": 10,
              "solidity": 0.2
             }
            },
            "type": "barpolar"
           }
          ],
          "carpet": [
           {
            "aaxis": {
             "endlinecolor": "#2a3f5f",
             "gridcolor": "white",
             "linecolor": "white",
             "minorgridcolor": "white",
             "startlinecolor": "#2a3f5f"
            },
            "baxis": {
             "endlinecolor": "#2a3f5f",
             "gridcolor": "white",
             "linecolor": "white",
             "minorgridcolor": "white",
             "startlinecolor": "#2a3f5f"
            },
            "type": "carpet"
           }
          ],
          "choropleth": [
           {
            "colorbar": {
             "outlinewidth": 0,
             "ticks": ""
            },
            "type": "choropleth"
           }
          ],
          "contour": [
           {
            "colorbar": {
             "outlinewidth": 0,
             "ticks": ""
            },
            "colorscale": [
             [
              0,
              "#0d0887"
             ],
             [
              0.1111111111111111,
              "#46039f"
             ],
             [
              0.2222222222222222,
              "#7201a8"
             ],
             [
              0.3333333333333333,
              "#9c179e"
             ],
             [
              0.4444444444444444,
              "#bd3786"
             ],
             [
              0.5555555555555556,
              "#d8576b"
             ],
             [
              0.6666666666666666,
              "#ed7953"
             ],
             [
              0.7777777777777778,
              "#fb9f3a"
             ],
             [
              0.8888888888888888,
              "#fdca26"
             ],
             [
              1,
              "#f0f921"
             ]
            ],
            "type": "contour"
           }
          ],
          "contourcarpet": [
           {
            "colorbar": {
             "outlinewidth": 0,
             "ticks": ""
            },
            "type": "contourcarpet"
           }
          ],
          "heatmap": [
           {
            "colorbar": {
             "outlinewidth": 0,
             "ticks": ""
            },
            "colorscale": [
             [
              0,
              "#0d0887"
             ],
             [
              0.1111111111111111,
              "#46039f"
             ],
             [
              0.2222222222222222,
              "#7201a8"
             ],
             [
              0.3333333333333333,
              "#9c179e"
             ],
             [
              0.4444444444444444,
              "#bd3786"
             ],
             [
              0.5555555555555556,
              "#d8576b"
             ],
             [
              0.6666666666666666,
              "#ed7953"
             ],
             [
              0.7777777777777778,
              "#fb9f3a"
             ],
             [
              0.8888888888888888,
              "#fdca26"
             ],
             [
              1,
              "#f0f921"
             ]
            ],
            "type": "heatmap"
           }
          ],
          "histogram": [
           {
            "marker": {
             "pattern": {
              "fillmode": "overlay",
              "size": 10,
              "solidity": 0.2
             }
            },
            "type": "histogram"
           }
          ],
          "histogram2d": [
           {
            "colorbar": {
             "outlinewidth": 0,
             "ticks": ""
            },
            "colorscale": [
             [
              0,
              "#0d0887"
             ],
             [
              0.1111111111111111,
              "#46039f"
             ],
             [
              0.2222222222222222,
              "#7201a8"
             ],
             [
              0.3333333333333333,
              "#9c179e"
             ],
             [
              0.4444444444444444,
              "#bd3786"
             ],
             [
              0.5555555555555556,
              "#d8576b"
             ],
             [
              0.6666666666666666,
              "#ed7953"
             ],
             [
              0.7777777777777778,
              "#fb9f3a"
             ],
             [
              0.8888888888888888,
              "#fdca26"
             ],
             [
              1,
              "#f0f921"
             ]
            ],
            "type": "histogram2d"
           }
          ],
          "histogram2dcontour": [
           {
            "colorbar": {
             "outlinewidth": 0,
             "ticks": ""
            },
            "colorscale": [
             [
              0,
              "#0d0887"
             ],
             [
              0.1111111111111111,
              "#46039f"
             ],
             [
              0.2222222222222222,
              "#7201a8"
             ],
             [
              0.3333333333333333,
              "#9c179e"
             ],
             [
              0.4444444444444444,
              "#bd3786"
             ],
             [
              0.5555555555555556,
              "#d8576b"
             ],
             [
              0.6666666666666666,
              "#ed7953"
             ],
             [
              0.7777777777777778,
              "#fb9f3a"
             ],
             [
              0.8888888888888888,
              "#fdca26"
             ],
             [
              1,
              "#f0f921"
             ]
            ],
            "type": "histogram2dcontour"
           }
          ],
          "mesh3d": [
           {
            "colorbar": {
             "outlinewidth": 0,
             "ticks": ""
            },
            "type": "mesh3d"
           }
          ],
          "parcoords": [
           {
            "line": {
             "colorbar": {
              "outlinewidth": 0,
              "ticks": ""
             }
            },
            "type": "parcoords"
           }
          ],
          "pie": [
           {
            "automargin": true,
            "type": "pie"
           }
          ],
          "scatter": [
           {
            "fillpattern": {
             "fillmode": "overlay",
             "size": 10,
             "solidity": 0.2
            },
            "type": "scatter"
           }
          ],
          "scatter3d": [
           {
            "line": {
             "colorbar": {
              "outlinewidth": 0,
              "ticks": ""
             }
            },
            "marker": {
             "colorbar": {
              "outlinewidth": 0,
              "ticks": ""
             }
            },
            "type": "scatter3d"
           }
          ],
          "scattercarpet": [
           {
            "marker": {
             "colorbar": {
              "outlinewidth": 0,
              "ticks": ""
             }
            },
            "type": "scattercarpet"
           }
          ],
          "scattergeo": [
           {
            "marker": {
             "colorbar": {
              "outlinewidth": 0,
              "ticks": ""
             }
            },
            "type": "scattergeo"
           }
          ],
          "scattergl": [
           {
            "marker": {
             "colorbar": {
              "outlinewidth": 0,
              "ticks": ""
             }
            },
            "type": "scattergl"
           }
          ],
          "scattermap": [
           {
            "marker": {
             "colorbar": {
              "outlinewidth": 0,
              "ticks": ""
             }
            },
            "type": "scattermap"
           }
          ],
          "scattermapbox": [
           {
            "marker": {
             "colorbar": {
              "outlinewidth": 0,
              "ticks": ""
             }
            },
            "type": "scattermapbox"
           }
          ],
          "scatterpolar": [
           {
            "marker": {
             "colorbar": {
              "outlinewidth": 0,
              "ticks": ""
             }
            },
            "type": "scatterpolar"
           }
          ],
          "scatterpolargl": [
           {
            "marker": {
             "colorbar": {
              "outlinewidth": 0,
              "ticks": ""
             }
            },
            "type": "scatterpolargl"
           }
          ],
          "scatterternary": [
           {
            "marker": {
             "colorbar": {
              "outlinewidth": 0,
              "ticks": ""
             }
            },
            "type": "scatterternary"
           }
          ],
          "surface": [
           {
            "colorbar": {
             "outlinewidth": 0,
             "ticks": ""
            },
            "colorscale": [
             [
              0,
              "#0d0887"
             ],
             [
              0.1111111111111111,
              "#46039f"
             ],
             [
              0.2222222222222222,
              "#7201a8"
             ],
             [
              0.3333333333333333,
              "#9c179e"
             ],
             [
              0.4444444444444444,
              "#bd3786"
             ],
             [
              0.5555555555555556,
              "#d8576b"
             ],
             [
              0.6666666666666666,
              "#ed7953"
             ],
             [
              0.7777777777777778,
              "#fb9f3a"
             ],
             [
              0.8888888888888888,
              "#fdca26"
             ],
             [
              1,
              "#f0f921"
             ]
            ],
            "type": "surface"
           }
          ],
          "table": [
           {
            "cells": {
             "fill": {
              "color": "#EBF0F8"
             },
             "line": {
              "color": "white"
             }
            },
            "header": {
             "fill": {
              "color": "#C8D4E3"
             },
             "line": {
              "color": "white"
             }
            },
            "type": "table"
           }
          ]
         },
         "layout": {
          "annotationdefaults": {
           "arrowcolor": "#2a3f5f",
           "arrowhead": 0,
           "arrowwidth": 1
          },
          "autotypenumbers": "strict",
          "coloraxis": {
           "colorbar": {
            "outlinewidth": 0,
            "ticks": ""
           }
          },
          "colorscale": {
           "diverging": [
            [
             0,
             "#8e0152"
            ],
            [
             0.1,
             "#c51b7d"
            ],
            [
             0.2,
             "#de77ae"
            ],
            [
             0.3,
             "#f1b6da"
            ],
            [
             0.4,
             "#fde0ef"
            ],
            [
             0.5,
             "#f7f7f7"
            ],
            [
             0.6,
             "#e6f5d0"
            ],
            [
             0.7,
             "#b8e186"
            ],
            [
             0.8,
             "#7fbc41"
            ],
            [
             0.9,
             "#4d9221"
            ],
            [
             1,
             "#276419"
            ]
           ],
           "sequential": [
            [
             0,
             "#0d0887"
            ],
            [
             0.1111111111111111,
             "#46039f"
            ],
            [
             0.2222222222222222,
             "#7201a8"
            ],
            [
             0.3333333333333333,
             "#9c179e"
            ],
            [
             0.4444444444444444,
             "#bd3786"
            ],
            [
             0.5555555555555556,
             "#d8576b"
            ],
            [
             0.6666666666666666,
             "#ed7953"
            ],
            [
             0.7777777777777778,
             "#fb9f3a"
            ],
            [
             0.8888888888888888,
             "#fdca26"
            ],
            [
             1,
             "#f0f921"
            ]
           ],
           "sequentialminus": [
            [
             0,
             "#0d0887"
            ],
            [
             0.1111111111111111,
             "#46039f"
            ],
            [
             0.2222222222222222,
             "#7201a8"
            ],
            [
             0.3333333333333333,
             "#9c179e"
            ],
            [
             0.4444444444444444,
             "#bd3786"
            ],
            [
             0.5555555555555556,
             "#d8576b"
            ],
            [
             0.6666666666666666,
             "#ed7953"
            ],
            [
             0.7777777777777778,
             "#fb9f3a"
            ],
            [
             0.8888888888888888,
             "#fdca26"
            ],
            [
             1,
             "#f0f921"
            ]
           ]
          },
          "colorway": [
           "#636efa",
           "#EF553B",
           "#00cc96",
           "#ab63fa",
           "#FFA15A",
           "#19d3f3",
           "#FF6692",
           "#B6E880",
           "#FF97FF",
           "#FECB52"
          ],
          "font": {
           "color": "#2a3f5f"
          },
          "geo": {
           "bgcolor": "white",
           "lakecolor": "white",
           "landcolor": "#E5ECF6",
           "showlakes": true,
           "showland": true,
           "subunitcolor": "white"
          },
          "hoverlabel": {
           "align": "left"
          },
          "hovermode": "closest",
          "mapbox": {
           "style": "light"
          },
          "paper_bgcolor": "white",
          "plot_bgcolor": "#E5ECF6",
          "polar": {
           "angularaxis": {
            "gridcolor": "white",
            "linecolor": "white",
            "ticks": ""
           },
           "bgcolor": "#E5ECF6",
           "radialaxis": {
            "gridcolor": "white",
            "linecolor": "white",
            "ticks": ""
           }
          },
          "scene": {
           "xaxis": {
            "backgroundcolor": "#E5ECF6",
            "gridcolor": "white",
            "gridwidth": 2,
            "linecolor": "white",
            "showbackground": true,
            "ticks": "",
            "zerolinecolor": "white"
           },
           "yaxis": {
            "backgroundcolor": "#E5ECF6",
            "gridcolor": "white",
            "gridwidth": 2,
            "linecolor": "white",
            "showbackground": true,
            "ticks": "",
            "zerolinecolor": "white"
           },
           "zaxis": {
            "backgroundcolor": "#E5ECF6",
            "gridcolor": "white",
            "gridwidth": 2,
            "linecolor": "white",
            "showbackground": true,
            "ticks": "",
            "zerolinecolor": "white"
           }
          },
          "shapedefaults": {
           "line": {
            "color": "#2a3f5f"
           }
          },
          "ternary": {
           "aaxis": {
            "gridcolor": "white",
            "linecolor": "white",
            "ticks": ""
           },
           "baxis": {
            "gridcolor": "white",
            "linecolor": "white",
            "ticks": ""
           },
           "bgcolor": "#E5ECF6",
           "caxis": {
            "gridcolor": "white",
            "linecolor": "white",
            "ticks": ""
           }
          },
          "title": {
           "x": 0.05
          },
          "xaxis": {
           "automargin": true,
           "gridcolor": "white",
           "linecolor": "white",
           "ticks": "",
           "title": {
            "standoff": 15
           },
           "zerolinecolor": "white",
           "zerolinewidth": 2
          },
          "yaxis": {
           "automargin": true,
           "gridcolor": "white",
           "linecolor": "white",
           "ticks": "",
           "title": {
            "standoff": 15
           },
           "zerolinecolor": "white",
           "zerolinewidth": 2
          }
         }
        },
        "title": {
         "font": {
          "color": "#284669",
          "family": "Arial",
          "size": 24
         },
         "text": "Saldo Medio por Perfil (P10–P90)",
         "x": 0.5,
         "y": 0.95
        },
        "width": 700
       }
      }
     },
     "metadata": {},
     "output_type": "display_data"
    }
   ],
   "source": [
    "p10 = df['balance'].quantile(0.10)\n",
    "p90 = df['balance'].quantile(0.90)\n",
    "df_filtrado = df[(df['balance'] >= p10) & (df['balance'] <= p90)]\n",
    "\n",
    "saldoMedioPerfil = round(df_filtrado.groupby('Perfil')['balance'].mean(), 2).reset_index()\n",
    "\n",
    "orden_perfiles = ['Gen Z & Boomers', 'Divorciadxs', 'Adultxs', 'Millenials']\n",
    "saldoMedioPerfil['Perfil'] = pd.Categorical(saldoMedioPerfil['Perfil'], categories=orden_perfiles, ordered=True)\n",
    "saldoMedioPerfil = saldoMedioPerfil.sort_values('Perfil')\n",
    "\n",
    "colores_azules = {\n",
    "    'Gen Z & Boomers': '#2F5D8A',\n",
    "    'Divorciadxs': '#518AB7',\n",
    "    'Adultxs': '#7FB3E6',\n",
    "    'Millenials': '#B3D1F2'\n",
    "}\n",
    "\n",
    "fig = px.pie(\n",
    "    saldoMedioPerfil,\n",
    "    names='Perfil',\n",
    "    values='balance',\n",
    "    title='Saldo Medio por Perfil (P10–P90)',\n",
    "    color='Perfil',\n",
    "    color_discrete_map=colores_azules\n",
    ")\n",
    "\n",
    "fig.update_traces(\n",
    "    textinfo='label+value',\n",
    "    texttemplate='%{label}<br>%{value} €',\n",
    "    textfont_size=18,\n",
    "    domain=dict(x=[0, 0.82], y=[0.0, 0.9])\n",
    ")\n",
    "\n",
    "fig.update_layout(\n",
    "    font=dict(size=22, family='Arial', color='#284669'),\n",
    "    title_font=dict(size=24, family='Arial', color='#284669'),\n",
    "    title_x=0.5,\n",
    "    title_y=0.95,\n",
    "    paper_bgcolor='#F0F5FA',\n",
    "    width=700,\n",
    "    height=700,\n",
    "    margin=dict(t=50, l=20, r=60, b=20),\n",
    "    legend=dict(\n",
    "        x=0.91,\n",
    "        y=0.5,\n",
    "        xanchor='left',\n",
    "        yanchor='middle',\n",
    "        font=dict(size=18, color='#284669'),\n",
    "        traceorder='normal'\n",
    "    )\n",
    ")\n",
    "\n",
    "fig.show()\n"
   ]
  },
  {
   "cell_type": "code",
   "execution_count": 23,
   "id": "097dd095",
   "metadata": {},
   "outputs": [
    {
     "data": {
      "text/plain": [
       "np.float64(864.79)"
      ]
     },
     "execution_count": 23,
     "metadata": {},
     "output_type": "execute_result"
    }
   ],
   "source": [
    "saldoMedioGeneral = round(df_filtrado[\"balance\"].mean(),2)\n",
    "saldoMedioGeneral"
   ]
  },
  {
   "cell_type": "code",
   "execution_count": 24,
   "id": "1d2ef304",
   "metadata": {},
   "outputs": [
    {
     "data": {
      "text/plain": [
       "np.float64(946.35)"
      ]
     },
     "execution_count": 24,
     "metadata": {},
     "output_type": "execute_result"
    }
   ],
   "source": [
    "saldoMedioDesv = round(df_filtrado[\"balance\"].std(),2)\n",
    "saldoMedioDesv"
   ]
  },
  {
   "cell_type": "markdown",
   "id": "7f65e40e",
   "metadata": {},
   "source": [
    "Tasa de incumplimiento (Total)"
   ]
  },
  {
   "cell_type": "code",
   "execution_count": 91,
   "id": "0a139bc7",
   "metadata": {},
   "outputs": [
    {
     "name": "stdout",
     "output_type": "stream",
     "text": [
      "1.49\n"
     ]
    }
   ],
   "source": [
    "defaultYes = df[(df['default'] == 'yes')].shape[0] #7697\n",
    "# print(defaultYes)\n",
    "defaultTotal = df.shape[0] #16162\n",
    "# print(defaultTotal)\n",
    "\n",
    "tasaDefautYes = round((defaultYes * 100)/defaultTotal, 2)\n",
    "print (tasaDefautYes)"
   ]
  },
  {
   "cell_type": "markdown",
   "id": "6b342095",
   "metadata": {},
   "source": [
    "Tasa de incumplimiento (Gen Z & Boomers)"
   ]
  },
  {
   "cell_type": "code",
   "execution_count": 87,
   "id": "5cffd525",
   "metadata": {},
   "outputs": [
    {
     "name": "stdout",
     "output_type": "stream",
     "text": [
      "1.01\n"
     ]
    }
   ],
   "source": [
    "defaultYesZ = df[(df['default'] == 'yes') & (df['Perfil'] == 'Gen Z & Boomers')].shape[0] #1722\n",
    "# print(defaultYesZ)\n",
    "defaultTotalZ = df[(df['Perfil'] == 'Gen Z & Boomers')].shape[0] #2870\n",
    "# print(defaultTotalZ)\n",
    "\n",
    "tasaDefautYesZ = round((defaultYesZ * 100)/defaultTotalZ, 2)\n",
    "print(tasaDefautYesZ)"
   ]
  },
  {
   "cell_type": "markdown",
   "id": "91bebe99",
   "metadata": {},
   "source": [
    "Tasa de incumplimiento (Millenials)"
   ]
  },
  {
   "cell_type": "code",
   "execution_count": 88,
   "id": "62d80d73",
   "metadata": {},
   "outputs": [
    {
     "name": "stdout",
     "output_type": "stream",
     "text": [
      "1.48\n"
     ]
    }
   ],
   "source": [
    "defaultYesM = df[(df['default'] == 'yes') & (df['Perfil'] == 'Millenials')].shape[0] #2592\n",
    "# print(defaultYesM)\n",
    "defaultTotalM = df[(df['Perfil'] == 'Millenials')].shape[0] #5263\n",
    "# print(defaultTotalM)\n",
    "\n",
    "tasaDefautYesM = round((defaultYesM * 100)/defaultTotalM, 2)\n",
    "print(tasaDefautYesM)"
   ]
  },
  {
   "cell_type": "markdown",
   "id": "3671f16c",
   "metadata": {},
   "source": [
    "Tasa de incumplimiento (Adultxs)"
   ]
  },
  {
   "cell_type": "code",
   "execution_count": 89,
   "id": "16b1d88d",
   "metadata": {},
   "outputs": [
    {
     "name": "stdout",
     "output_type": "stream",
     "text": [
      "1.59\n"
     ]
    }
   ],
   "source": [
    "defaultYesA = df[(df['default'] == 'yes') & (df['Perfil'] == 'Adultxs')].shape[0] #2036\n",
    "# print(defaultYesA)\n",
    "defaultTotalA = df[(df['Perfil'] == 'Adultxs')].shape[0] #4850\n",
    "# print(defaultTotalA)\n",
    "\n",
    "tasaDefautYesA = round((defaultYesA * 100)/defaultTotalA, 2)\n",
    "print(tasaDefautYesA)"
   ]
  },
  {
   "cell_type": "markdown",
   "id": "546eb126",
   "metadata": {},
   "source": [
    "Tasa de incumplimiento (Divorciadxs)"
   ]
  },
  {
   "cell_type": "code",
   "execution_count": 90,
   "id": "dc431b00",
   "metadata": {},
   "outputs": [
    {
     "name": "stdout",
     "output_type": "stream",
     "text": [
      "1.79\n"
     ]
    }
   ],
   "source": [
    "defaultYesD = df[(df['default'] == 'yes') & (df['Perfil'] == 'Divorciadxs')].shape[0] #1347\n",
    "# print(defaultYesD)\n",
    "defaultTotalD = df[(df['Perfil'] == 'Divorciadxs')].shape[0] #3179\n",
    "# print(defaultTotalD)\n",
    "\n",
    "tasaDefautYesD = round((defaultYesD * 100)/defaultTotalD, 2)\n",
    "print(tasaDefautYesD)"
   ]
  },
  {
   "cell_type": "markdown",
   "id": "271f869c",
   "metadata": {},
   "source": [
    "Tasa de incumplimiento por perfil"
   ]
  },
  {
   "cell_type": "code",
   "execution_count": null,
   "id": "4014e8f8",
   "metadata": {},
   "outputs": [
    {
     "data": {
      "text/html": [
       "<div>\n",
       "<style scoped>\n",
       "    .dataframe tbody tr th:only-of-type {\n",
       "        vertical-align: middle;\n",
       "    }\n",
       "\n",
       "    .dataframe tbody tr th {\n",
       "        vertical-align: top;\n",
       "    }\n",
       "\n",
       "    .dataframe thead th {\n",
       "        text-align: right;\n",
       "    }\n",
       "</style>\n",
       "<table border=\"1\" class=\"dataframe\">\n",
       "  <thead>\n",
       "    <tr style=\"text-align: right;\">\n",
       "      <th></th>\n",
       "      <th>Perfil</th>\n",
       "      <th>default</th>\n",
       "    </tr>\n",
       "  </thead>\n",
       "  <tbody>\n",
       "    <tr>\n",
       "      <th>0</th>\n",
       "      <td>Adultxs</td>\n",
       "      <td>77</td>\n",
       "    </tr>\n",
       "    <tr>\n",
       "      <th>1</th>\n",
       "      <td>Divorciadxs</td>\n",
       "      <td>57</td>\n",
       "    </tr>\n",
       "    <tr>\n",
       "      <th>2</th>\n",
       "      <td>Gen Z &amp; Boomers</td>\n",
       "      <td>29</td>\n",
       "    </tr>\n",
       "    <tr>\n",
       "      <th>3</th>\n",
       "      <td>Millenials</td>\n",
       "      <td>78</td>\n",
       "    </tr>\n",
       "  </tbody>\n",
       "</table>\n",
       "</div>"
      ],
      "text/plain": [
       "            Perfil  default\n",
       "0          Adultxs       77\n",
       "1      Divorciadxs       57\n",
       "2  Gen Z & Boomers       29\n",
       "3       Millenials       78"
      ]
     },
     "execution_count": 85,
     "metadata": {},
     "output_type": "execute_result"
    }
   ],
   "source": [
    "dfIncumplimiento = df[df['default'] == 'yes']\n",
    "dfIncumplimiento = dfIncumplimiento[['Perfil', 'default']]\n",
    "dfIncumplimiento = dfIncumplimiento.groupby('Perfil').count().reset_index()\n",
    "dfIncumplimiento"
   ]
  },
  {
   "cell_type": "code",
   "execution_count": 145,
   "id": "4e843306",
   "metadata": {},
   "outputs": [
    {
     "data": {
      "application/vnd.plotly.v1+json": {
       "config": {
        "plotlyServerURL": "https://plot.ly"
       },
       "data": [
        {
         "customdata": [
          [
           "Gen Z & Boomers"
          ],
          [
           "Millenials"
          ],
          [
           "Adultxs"
          ],
          [
           "Divorciadxs"
          ]
         ],
         "domain": {
          "x": [
           0,
           0.85
          ],
          "y": [
           0,
           0.9
          ]
         },
         "hovertemplate": "Perfil=%{customdata[0]}<br>default=%{value}<extra></extra>",
         "labels": [
          "Gen Z & Boomers",
          "Millenials",
          "Adultxs",
          "Divorciadxs"
         ],
         "legendgroup": "",
         "marker": {
          "colors": [
           "#F2B6B6",
           "#C24646",
           "#D95C5C",
           "#E88C8C"
          ]
         },
         "name": "",
         "showlegend": true,
         "type": "pie",
         "values": {
          "bdata": "HU5NOQ==",
          "dtype": "i1"
         }
        }
       ],
       "layout": {
        "font": {
         "color": "#284669",
         "family": "Arial",
         "size": 22
        },
        "height": 700,
        "legend": {
         "font": {
          "color": "#284669",
          "size": 18
         },
         "tracegroupgap": 0,
         "x": 0.88,
         "xanchor": "left",
         "y": 0.5,
         "yanchor": "middle"
        },
        "margin": {
         "b": 20,
         "l": 20,
         "r": 20,
         "t": 50
        },
        "paper_bgcolor": "#F0F5FA",
        "template": {
         "data": {
          "bar": [
           {
            "error_x": {
             "color": "#2a3f5f"
            },
            "error_y": {
             "color": "#2a3f5f"
            },
            "marker": {
             "line": {
              "color": "#E5ECF6",
              "width": 0.5
             },
             "pattern": {
              "fillmode": "overlay",
              "size": 10,
              "solidity": 0.2
             }
            },
            "type": "bar"
           }
          ],
          "barpolar": [
           {
            "marker": {
             "line": {
              "color": "#E5ECF6",
              "width": 0.5
             },
             "pattern": {
              "fillmode": "overlay",
              "size": 10,
              "solidity": 0.2
             }
            },
            "type": "barpolar"
           }
          ],
          "carpet": [
           {
            "aaxis": {
             "endlinecolor": "#2a3f5f",
             "gridcolor": "white",
             "linecolor": "white",
             "minorgridcolor": "white",
             "startlinecolor": "#2a3f5f"
            },
            "baxis": {
             "endlinecolor": "#2a3f5f",
             "gridcolor": "white",
             "linecolor": "white",
             "minorgridcolor": "white",
             "startlinecolor": "#2a3f5f"
            },
            "type": "carpet"
           }
          ],
          "choropleth": [
           {
            "colorbar": {
             "outlinewidth": 0,
             "ticks": ""
            },
            "type": "choropleth"
           }
          ],
          "contour": [
           {
            "colorbar": {
             "outlinewidth": 0,
             "ticks": ""
            },
            "colorscale": [
             [
              0,
              "#0d0887"
             ],
             [
              0.1111111111111111,
              "#46039f"
             ],
             [
              0.2222222222222222,
              "#7201a8"
             ],
             [
              0.3333333333333333,
              "#9c179e"
             ],
             [
              0.4444444444444444,
              "#bd3786"
             ],
             [
              0.5555555555555556,
              "#d8576b"
             ],
             [
              0.6666666666666666,
              "#ed7953"
             ],
             [
              0.7777777777777778,
              "#fb9f3a"
             ],
             [
              0.8888888888888888,
              "#fdca26"
             ],
             [
              1,
              "#f0f921"
             ]
            ],
            "type": "contour"
           }
          ],
          "contourcarpet": [
           {
            "colorbar": {
             "outlinewidth": 0,
             "ticks": ""
            },
            "type": "contourcarpet"
           }
          ],
          "heatmap": [
           {
            "colorbar": {
             "outlinewidth": 0,
             "ticks": ""
            },
            "colorscale": [
             [
              0,
              "#0d0887"
             ],
             [
              0.1111111111111111,
              "#46039f"
             ],
             [
              0.2222222222222222,
              "#7201a8"
             ],
             [
              0.3333333333333333,
              "#9c179e"
             ],
             [
              0.4444444444444444,
              "#bd3786"
             ],
             [
              0.5555555555555556,
              "#d8576b"
             ],
             [
              0.6666666666666666,
              "#ed7953"
             ],
             [
              0.7777777777777778,
              "#fb9f3a"
             ],
             [
              0.8888888888888888,
              "#fdca26"
             ],
             [
              1,
              "#f0f921"
             ]
            ],
            "type": "heatmap"
           }
          ],
          "histogram": [
           {
            "marker": {
             "pattern": {
              "fillmode": "overlay",
              "size": 10,
              "solidity": 0.2
             }
            },
            "type": "histogram"
           }
          ],
          "histogram2d": [
           {
            "colorbar": {
             "outlinewidth": 0,
             "ticks": ""
            },
            "colorscale": [
             [
              0,
              "#0d0887"
             ],
             [
              0.1111111111111111,
              "#46039f"
             ],
             [
              0.2222222222222222,
              "#7201a8"
             ],
             [
              0.3333333333333333,
              "#9c179e"
             ],
             [
              0.4444444444444444,
              "#bd3786"
             ],
             [
              0.5555555555555556,
              "#d8576b"
             ],
             [
              0.6666666666666666,
              "#ed7953"
             ],
             [
              0.7777777777777778,
              "#fb9f3a"
             ],
             [
              0.8888888888888888,
              "#fdca26"
             ],
             [
              1,
              "#f0f921"
             ]
            ],
            "type": "histogram2d"
           }
          ],
          "histogram2dcontour": [
           {
            "colorbar": {
             "outlinewidth": 0,
             "ticks": ""
            },
            "colorscale": [
             [
              0,
              "#0d0887"
             ],
             [
              0.1111111111111111,
              "#46039f"
             ],
             [
              0.2222222222222222,
              "#7201a8"
             ],
             [
              0.3333333333333333,
              "#9c179e"
             ],
             [
              0.4444444444444444,
              "#bd3786"
             ],
             [
              0.5555555555555556,
              "#d8576b"
             ],
             [
              0.6666666666666666,
              "#ed7953"
             ],
             [
              0.7777777777777778,
              "#fb9f3a"
             ],
             [
              0.8888888888888888,
              "#fdca26"
             ],
             [
              1,
              "#f0f921"
             ]
            ],
            "type": "histogram2dcontour"
           }
          ],
          "mesh3d": [
           {
            "colorbar": {
             "outlinewidth": 0,
             "ticks": ""
            },
            "type": "mesh3d"
           }
          ],
          "parcoords": [
           {
            "line": {
             "colorbar": {
              "outlinewidth": 0,
              "ticks": ""
             }
            },
            "type": "parcoords"
           }
          ],
          "pie": [
           {
            "automargin": true,
            "type": "pie"
           }
          ],
          "scatter": [
           {
            "fillpattern": {
             "fillmode": "overlay",
             "size": 10,
             "solidity": 0.2
            },
            "type": "scatter"
           }
          ],
          "scatter3d": [
           {
            "line": {
             "colorbar": {
              "outlinewidth": 0,
              "ticks": ""
             }
            },
            "marker": {
             "colorbar": {
              "outlinewidth": 0,
              "ticks": ""
             }
            },
            "type": "scatter3d"
           }
          ],
          "scattercarpet": [
           {
            "marker": {
             "colorbar": {
              "outlinewidth": 0,
              "ticks": ""
             }
            },
            "type": "scattercarpet"
           }
          ],
          "scattergeo": [
           {
            "marker": {
             "colorbar": {
              "outlinewidth": 0,
              "ticks": ""
             }
            },
            "type": "scattergeo"
           }
          ],
          "scattergl": [
           {
            "marker": {
             "colorbar": {
              "outlinewidth": 0,
              "ticks": ""
             }
            },
            "type": "scattergl"
           }
          ],
          "scattermap": [
           {
            "marker": {
             "colorbar": {
              "outlinewidth": 0,
              "ticks": ""
             }
            },
            "type": "scattermap"
           }
          ],
          "scattermapbox": [
           {
            "marker": {
             "colorbar": {
              "outlinewidth": 0,
              "ticks": ""
             }
            },
            "type": "scattermapbox"
           }
          ],
          "scatterpolar": [
           {
            "marker": {
             "colorbar": {
              "outlinewidth": 0,
              "ticks": ""
             }
            },
            "type": "scatterpolar"
           }
          ],
          "scatterpolargl": [
           {
            "marker": {
             "colorbar": {
              "outlinewidth": 0,
              "ticks": ""
             }
            },
            "type": "scatterpolargl"
           }
          ],
          "scatterternary": [
           {
            "marker": {
             "colorbar": {
              "outlinewidth": 0,
              "ticks": ""
             }
            },
            "type": "scatterternary"
           }
          ],
          "surface": [
           {
            "colorbar": {
             "outlinewidth": 0,
             "ticks": ""
            },
            "colorscale": [
             [
              0,
              "#0d0887"
             ],
             [
              0.1111111111111111,
              "#46039f"
             ],
             [
              0.2222222222222222,
              "#7201a8"
             ],
             [
              0.3333333333333333,
              "#9c179e"
             ],
             [
              0.4444444444444444,
              "#bd3786"
             ],
             [
              0.5555555555555556,
              "#d8576b"
             ],
             [
              0.6666666666666666,
              "#ed7953"
             ],
             [
              0.7777777777777778,
              "#fb9f3a"
             ],
             [
              0.8888888888888888,
              "#fdca26"
             ],
             [
              1,
              "#f0f921"
             ]
            ],
            "type": "surface"
           }
          ],
          "table": [
           {
            "cells": {
             "fill": {
              "color": "#EBF0F8"
             },
             "line": {
              "color": "white"
             }
            },
            "header": {
             "fill": {
              "color": "#C8D4E3"
             },
             "line": {
              "color": "white"
             }
            },
            "type": "table"
           }
          ]
         },
         "layout": {
          "annotationdefaults": {
           "arrowcolor": "#2a3f5f",
           "arrowhead": 0,
           "arrowwidth": 1
          },
          "autotypenumbers": "strict",
          "coloraxis": {
           "colorbar": {
            "outlinewidth": 0,
            "ticks": ""
           }
          },
          "colorscale": {
           "diverging": [
            [
             0,
             "#8e0152"
            ],
            [
             0.1,
             "#c51b7d"
            ],
            [
             0.2,
             "#de77ae"
            ],
            [
             0.3,
             "#f1b6da"
            ],
            [
             0.4,
             "#fde0ef"
            ],
            [
             0.5,
             "#f7f7f7"
            ],
            [
             0.6,
             "#e6f5d0"
            ],
            [
             0.7,
             "#b8e186"
            ],
            [
             0.8,
             "#7fbc41"
            ],
            [
             0.9,
             "#4d9221"
            ],
            [
             1,
             "#276419"
            ]
           ],
           "sequential": [
            [
             0,
             "#0d0887"
            ],
            [
             0.1111111111111111,
             "#46039f"
            ],
            [
             0.2222222222222222,
             "#7201a8"
            ],
            [
             0.3333333333333333,
             "#9c179e"
            ],
            [
             0.4444444444444444,
             "#bd3786"
            ],
            [
             0.5555555555555556,
             "#d8576b"
            ],
            [
             0.6666666666666666,
             "#ed7953"
            ],
            [
             0.7777777777777778,
             "#fb9f3a"
            ],
            [
             0.8888888888888888,
             "#fdca26"
            ],
            [
             1,
             "#f0f921"
            ]
           ],
           "sequentialminus": [
            [
             0,
             "#0d0887"
            ],
            [
             0.1111111111111111,
             "#46039f"
            ],
            [
             0.2222222222222222,
             "#7201a8"
            ],
            [
             0.3333333333333333,
             "#9c179e"
            ],
            [
             0.4444444444444444,
             "#bd3786"
            ],
            [
             0.5555555555555556,
             "#d8576b"
            ],
            [
             0.6666666666666666,
             "#ed7953"
            ],
            [
             0.7777777777777778,
             "#fb9f3a"
            ],
            [
             0.8888888888888888,
             "#fdca26"
            ],
            [
             1,
             "#f0f921"
            ]
           ]
          },
          "colorway": [
           "#636efa",
           "#EF553B",
           "#00cc96",
           "#ab63fa",
           "#FFA15A",
           "#19d3f3",
           "#FF6692",
           "#B6E880",
           "#FF97FF",
           "#FECB52"
          ],
          "font": {
           "color": "#2a3f5f"
          },
          "geo": {
           "bgcolor": "white",
           "lakecolor": "white",
           "landcolor": "#E5ECF6",
           "showlakes": true,
           "showland": true,
           "subunitcolor": "white"
          },
          "hoverlabel": {
           "align": "left"
          },
          "hovermode": "closest",
          "mapbox": {
           "style": "light"
          },
          "paper_bgcolor": "white",
          "plot_bgcolor": "#E5ECF6",
          "polar": {
           "angularaxis": {
            "gridcolor": "white",
            "linecolor": "white",
            "ticks": ""
           },
           "bgcolor": "#E5ECF6",
           "radialaxis": {
            "gridcolor": "white",
            "linecolor": "white",
            "ticks": ""
           }
          },
          "scene": {
           "xaxis": {
            "backgroundcolor": "#E5ECF6",
            "gridcolor": "white",
            "gridwidth": 2,
            "linecolor": "white",
            "showbackground": true,
            "ticks": "",
            "zerolinecolor": "white"
           },
           "yaxis": {
            "backgroundcolor": "#E5ECF6",
            "gridcolor": "white",
            "gridwidth": 2,
            "linecolor": "white",
            "showbackground": true,
            "ticks": "",
            "zerolinecolor": "white"
           },
           "zaxis": {
            "backgroundcolor": "#E5ECF6",
            "gridcolor": "white",
            "gridwidth": 2,
            "linecolor": "white",
            "showbackground": true,
            "ticks": "",
            "zerolinecolor": "white"
           }
          },
          "shapedefaults": {
           "line": {
            "color": "#2a3f5f"
           }
          },
          "ternary": {
           "aaxis": {
            "gridcolor": "white",
            "linecolor": "white",
            "ticks": ""
           },
           "baxis": {
            "gridcolor": "white",
            "linecolor": "white",
            "ticks": ""
           },
           "bgcolor": "#E5ECF6",
           "caxis": {
            "gridcolor": "white",
            "linecolor": "white",
            "ticks": ""
           }
          },
          "title": {
           "x": 0.05
          },
          "xaxis": {
           "automargin": true,
           "gridcolor": "white",
           "linecolor": "white",
           "ticks": "",
           "title": {
            "standoff": 15
           },
           "zerolinecolor": "white",
           "zerolinewidth": 2
          },
          "yaxis": {
           "automargin": true,
           "gridcolor": "white",
           "linecolor": "white",
           "ticks": "",
           "title": {
            "standoff": 15
           },
           "zerolinecolor": "white",
           "zerolinewidth": 2
          }
         }
        },
        "title": {
         "text": "Incumplimiento por Perfil",
         "x": 0.5,
         "y": 0.95
        },
        "width": 700
       }
      }
     },
     "metadata": {},
     "output_type": "display_data"
    }
   ],
   "source": [
    "import pandas as pd\n",
    "import plotly.express as px\n",
    "\n",
    "# Orden personalizado\n",
    "orden_perfiles = ['Gen Z & Boomers', 'Millenials', 'Adultxs', 'Divorciadxs']\n",
    "dfIncumplimiento['Perfil'] = pd.Categorical(dfIncumplimiento['Perfil'], categories=orden_perfiles, ordered=True)\n",
    "\n",
    "# Agrupar y ordenar\n",
    "dfOrdenado = dfIncumplimiento.groupby('Perfil', observed=True)['default'].sum().reset_index()\n",
    "dfOrdenado = dfOrdenado.sort_values('Perfil')\n",
    "\n",
    "# Colores asignados por perfil\n",
    "colores_rojos = {\n",
    "    'Millenials': '#C24646',\n",
    "    'Adultxs': '#D95C5C',\n",
    "    'Divorciadxs': '#E88C8C',\n",
    "    'Gen Z & Boomers': '#F2B6B6'\n",
    "}\n",
    "\n",
    "# Gráfico de pastel\n",
    "fig = px.pie(\n",
    "    dfOrdenado,\n",
    "    names='Perfil',\n",
    "    values='default',\n",
    "    title='Incumplimiento por Perfil',\n",
    "    color='Perfil',\n",
    "    color_discrete_map=colores_rojos\n",
    ")\n",
    "\n",
    "fig.update_layout(\n",
    "    font=dict(size=22, family='Arial', color='#284669'),\n",
    "    title_font=dict(size=24, family='Arial', color='#284669'),\n",
    "    title='Incumplimiento por Perfil',\n",
    "    title_x=0.5,\n",
    "    title_y=0.95,\n",
    "    paper_bgcolor='#F0F5FA',\n",
    "    width=700,\n",
    "    height=700,\n",
    "    margin=dict(t=50, l=20, r=20, b=20),\n",
    "    legend=dict(\n",
    "        x=0.88,\n",
    "        y=0.5,\n",
    "        xanchor='left',\n",
    "        yanchor='middle',\n",
    "        font=dict(size=18, color='#284669')\n",
    "    )\n",
    ")\n",
    "\n",
    "fig.update_traces(\n",
    "    domain=dict(x=[0, 0.85], y=[0.0, 0.9])\n",
    ")\n",
    "\n",
    "\n",
    "\n",
    "fig.show()\n"
   ]
  },
  {
   "cell_type": "code",
   "execution_count": 152,
   "id": "24708fdf",
   "metadata": {},
   "outputs": [
    {
     "data": {
      "application/vnd.plotly.v1+json": {
       "config": {
        "plotlyServerURL": "https://plot.ly"
       },
       "data": [
        {
         "branchvalues": "total",
         "customdata": [
          [
           "(?)"
          ],
          [
           "(?)"
          ],
          [
           "(?)"
          ],
          [
           "(?)"
          ],
          [
           "no"
          ],
          [
           "no"
          ],
          [
           "no"
          ],
          [
           "no"
          ],
          [
           "yes"
          ],
          [
           "yes"
          ],
          [
           "yes"
          ],
          [
           "yes"
          ]
         ],
         "domain": {
          "x": [
           0,
           1
          ],
          "y": [
           0,
           1
          ]
         },
         "hovertemplate": "labels=%{label}<br>Cantidad=%{value}<br>parent=%{parent}<br>id=%{id}<br>default=%{customdata[0]}<extra></extra>",
         "ids": [
          "Adultxs",
          "Divorciadxs",
          "Gen Z & Boomers",
          "Millenials",
          "Adultxs/no",
          "Divorciadxs/no",
          "Gen Z & Boomers/no",
          "Millenials/no",
          "Adultxs/yes",
          "Divorciadxs/yes",
          "Gen Z & Boomers/yes",
          "Millenials/yes"
         ],
         "labels": [
          "Adultxs",
          "Divorciadxs",
          "Gen Z & Boomers",
          "Millenials",
          "no",
          "no",
          "no",
          "no",
          "yes",
          "yes",
          "yes",
          "yes"
         ],
         "marker": {
          "colors": [
           "#00cc96",
           "#00cc96",
           "#00cc96",
           "#00cc96",
           "#518AB7",
           "#518AB7",
           "#518AB7",
           "#518AB7",
           "#C24646",
           "#C24646",
           "#C24646",
           "#C24646"
          ]
         },
         "name": "",
         "parents": [
          "",
          "",
          "",
          "",
          "Adultxs",
          "Divorciadxs",
          "Gen Z & Boomers",
          "Millenials",
          "Adultxs",
          "Divorciadxs",
          "Gen Z & Boomers",
          "Millenials"
         ],
         "type": "sunburst",
         "values": {
          "bdata": "AAAAAADyskAAAAAAANaoQAAAAAAAbKZAAAAAAACPtEAAAAAAAKWyQAAAAAAAZKhAAAAAAAAypkAAAAAAAEG0QAAAAAAAQFNAAAAAAACATEAAAAAAAAA9QAAAAAAAgFNA",
          "dtype": "f8"
         }
        }
       ],
       "layout": {
        "font": {
         "color": "#284669",
         "family": "Arial",
         "size": 22
        },
        "height": 700,
        "legend": {
         "tracegroupgap": 0
        },
        "margin": {
         "b": 25,
         "l": 0,
         "r": 0,
         "t": 50
        },
        "paper_bgcolor": "#F0F5FA",
        "template": {
         "data": {
          "bar": [
           {
            "error_x": {
             "color": "#2a3f5f"
            },
            "error_y": {
             "color": "#2a3f5f"
            },
            "marker": {
             "line": {
              "color": "#E5ECF6",
              "width": 0.5
             },
             "pattern": {
              "fillmode": "overlay",
              "size": 10,
              "solidity": 0.2
             }
            },
            "type": "bar"
           }
          ],
          "barpolar": [
           {
            "marker": {
             "line": {
              "color": "#E5ECF6",
              "width": 0.5
             },
             "pattern": {
              "fillmode": "overlay",
              "size": 10,
              "solidity": 0.2
             }
            },
            "type": "barpolar"
           }
          ],
          "carpet": [
           {
            "aaxis": {
             "endlinecolor": "#2a3f5f",
             "gridcolor": "white",
             "linecolor": "white",
             "minorgridcolor": "white",
             "startlinecolor": "#2a3f5f"
            },
            "baxis": {
             "endlinecolor": "#2a3f5f",
             "gridcolor": "white",
             "linecolor": "white",
             "minorgridcolor": "white",
             "startlinecolor": "#2a3f5f"
            },
            "type": "carpet"
           }
          ],
          "choropleth": [
           {
            "colorbar": {
             "outlinewidth": 0,
             "ticks": ""
            },
            "type": "choropleth"
           }
          ],
          "contour": [
           {
            "colorbar": {
             "outlinewidth": 0,
             "ticks": ""
            },
            "colorscale": [
             [
              0,
              "#0d0887"
             ],
             [
              0.1111111111111111,
              "#46039f"
             ],
             [
              0.2222222222222222,
              "#7201a8"
             ],
             [
              0.3333333333333333,
              "#9c179e"
             ],
             [
              0.4444444444444444,
              "#bd3786"
             ],
             [
              0.5555555555555556,
              "#d8576b"
             ],
             [
              0.6666666666666666,
              "#ed7953"
             ],
             [
              0.7777777777777778,
              "#fb9f3a"
             ],
             [
              0.8888888888888888,
              "#fdca26"
             ],
             [
              1,
              "#f0f921"
             ]
            ],
            "type": "contour"
           }
          ],
          "contourcarpet": [
           {
            "colorbar": {
             "outlinewidth": 0,
             "ticks": ""
            },
            "type": "contourcarpet"
           }
          ],
          "heatmap": [
           {
            "colorbar": {
             "outlinewidth": 0,
             "ticks": ""
            },
            "colorscale": [
             [
              0,
              "#0d0887"
             ],
             [
              0.1111111111111111,
              "#46039f"
             ],
             [
              0.2222222222222222,
              "#7201a8"
             ],
             [
              0.3333333333333333,
              "#9c179e"
             ],
             [
              0.4444444444444444,
              "#bd3786"
             ],
             [
              0.5555555555555556,
              "#d8576b"
             ],
             [
              0.6666666666666666,
              "#ed7953"
             ],
             [
              0.7777777777777778,
              "#fb9f3a"
             ],
             [
              0.8888888888888888,
              "#fdca26"
             ],
             [
              1,
              "#f0f921"
             ]
            ],
            "type": "heatmap"
           }
          ],
          "histogram": [
           {
            "marker": {
             "pattern": {
              "fillmode": "overlay",
              "size": 10,
              "solidity": 0.2
             }
            },
            "type": "histogram"
           }
          ],
          "histogram2d": [
           {
            "colorbar": {
             "outlinewidth": 0,
             "ticks": ""
            },
            "colorscale": [
             [
              0,
              "#0d0887"
             ],
             [
              0.1111111111111111,
              "#46039f"
             ],
             [
              0.2222222222222222,
              "#7201a8"
             ],
             [
              0.3333333333333333,
              "#9c179e"
             ],
             [
              0.4444444444444444,
              "#bd3786"
             ],
             [
              0.5555555555555556,
              "#d8576b"
             ],
             [
              0.6666666666666666,
              "#ed7953"
             ],
             [
              0.7777777777777778,
              "#fb9f3a"
             ],
             [
              0.8888888888888888,
              "#fdca26"
             ],
             [
              1,
              "#f0f921"
             ]
            ],
            "type": "histogram2d"
           }
          ],
          "histogram2dcontour": [
           {
            "colorbar": {
             "outlinewidth": 0,
             "ticks": ""
            },
            "colorscale": [
             [
              0,
              "#0d0887"
             ],
             [
              0.1111111111111111,
              "#46039f"
             ],
             [
              0.2222222222222222,
              "#7201a8"
             ],
             [
              0.3333333333333333,
              "#9c179e"
             ],
             [
              0.4444444444444444,
              "#bd3786"
             ],
             [
              0.5555555555555556,
              "#d8576b"
             ],
             [
              0.6666666666666666,
              "#ed7953"
             ],
             [
              0.7777777777777778,
              "#fb9f3a"
             ],
             [
              0.8888888888888888,
              "#fdca26"
             ],
             [
              1,
              "#f0f921"
             ]
            ],
            "type": "histogram2dcontour"
           }
          ],
          "mesh3d": [
           {
            "colorbar": {
             "outlinewidth": 0,
             "ticks": ""
            },
            "type": "mesh3d"
           }
          ],
          "parcoords": [
           {
            "line": {
             "colorbar": {
              "outlinewidth": 0,
              "ticks": ""
             }
            },
            "type": "parcoords"
           }
          ],
          "pie": [
           {
            "automargin": true,
            "type": "pie"
           }
          ],
          "scatter": [
           {
            "fillpattern": {
             "fillmode": "overlay",
             "size": 10,
             "solidity": 0.2
            },
            "type": "scatter"
           }
          ],
          "scatter3d": [
           {
            "line": {
             "colorbar": {
              "outlinewidth": 0,
              "ticks": ""
             }
            },
            "marker": {
             "colorbar": {
              "outlinewidth": 0,
              "ticks": ""
             }
            },
            "type": "scatter3d"
           }
          ],
          "scattercarpet": [
           {
            "marker": {
             "colorbar": {
              "outlinewidth": 0,
              "ticks": ""
             }
            },
            "type": "scattercarpet"
           }
          ],
          "scattergeo": [
           {
            "marker": {
             "colorbar": {
              "outlinewidth": 0,
              "ticks": ""
             }
            },
            "type": "scattergeo"
           }
          ],
          "scattergl": [
           {
            "marker": {
             "colorbar": {
              "outlinewidth": 0,
              "ticks": ""
             }
            },
            "type": "scattergl"
           }
          ],
          "scattermap": [
           {
            "marker": {
             "colorbar": {
              "outlinewidth": 0,
              "ticks": ""
             }
            },
            "type": "scattermap"
           }
          ],
          "scattermapbox": [
           {
            "marker": {
             "colorbar": {
              "outlinewidth": 0,
              "ticks": ""
             }
            },
            "type": "scattermapbox"
           }
          ],
          "scatterpolar": [
           {
            "marker": {
             "colorbar": {
              "outlinewidth": 0,
              "ticks": ""
             }
            },
            "type": "scatterpolar"
           }
          ],
          "scatterpolargl": [
           {
            "marker": {
             "colorbar": {
              "outlinewidth": 0,
              "ticks": ""
             }
            },
            "type": "scatterpolargl"
           }
          ],
          "scatterternary": [
           {
            "marker": {
             "colorbar": {
              "outlinewidth": 0,
              "ticks": ""
             }
            },
            "type": "scatterternary"
           }
          ],
          "surface": [
           {
            "colorbar": {
             "outlinewidth": 0,
             "ticks": ""
            },
            "colorscale": [
             [
              0,
              "#0d0887"
             ],
             [
              0.1111111111111111,
              "#46039f"
             ],
             [
              0.2222222222222222,
              "#7201a8"
             ],
             [
              0.3333333333333333,
              "#9c179e"
             ],
             [
              0.4444444444444444,
              "#bd3786"
             ],
             [
              0.5555555555555556,
              "#d8576b"
             ],
             [
              0.6666666666666666,
              "#ed7953"
             ],
             [
              0.7777777777777778,
              "#fb9f3a"
             ],
             [
              0.8888888888888888,
              "#fdca26"
             ],
             [
              1,
              "#f0f921"
             ]
            ],
            "type": "surface"
           }
          ],
          "table": [
           {
            "cells": {
             "fill": {
              "color": "#EBF0F8"
             },
             "line": {
              "color": "white"
             }
            },
            "header": {
             "fill": {
              "color": "#C8D4E3"
             },
             "line": {
              "color": "white"
             }
            },
            "type": "table"
           }
          ]
         },
         "layout": {
          "annotationdefaults": {
           "arrowcolor": "#2a3f5f",
           "arrowhead": 0,
           "arrowwidth": 1
          },
          "autotypenumbers": "strict",
          "coloraxis": {
           "colorbar": {
            "outlinewidth": 0,
            "ticks": ""
           }
          },
          "colorscale": {
           "diverging": [
            [
             0,
             "#8e0152"
            ],
            [
             0.1,
             "#c51b7d"
            ],
            [
             0.2,
             "#de77ae"
            ],
            [
             0.3,
             "#f1b6da"
            ],
            [
             0.4,
             "#fde0ef"
            ],
            [
             0.5,
             "#f7f7f7"
            ],
            [
             0.6,
             "#e6f5d0"
            ],
            [
             0.7,
             "#b8e186"
            ],
            [
             0.8,
             "#7fbc41"
            ],
            [
             0.9,
             "#4d9221"
            ],
            [
             1,
             "#276419"
            ]
           ],
           "sequential": [
            [
             0,
             "#0d0887"
            ],
            [
             0.1111111111111111,
             "#46039f"
            ],
            [
             0.2222222222222222,
             "#7201a8"
            ],
            [
             0.3333333333333333,
             "#9c179e"
            ],
            [
             0.4444444444444444,
             "#bd3786"
            ],
            [
             0.5555555555555556,
             "#d8576b"
            ],
            [
             0.6666666666666666,
             "#ed7953"
            ],
            [
             0.7777777777777778,
             "#fb9f3a"
            ],
            [
             0.8888888888888888,
             "#fdca26"
            ],
            [
             1,
             "#f0f921"
            ]
           ],
           "sequentialminus": [
            [
             0,
             "#0d0887"
            ],
            [
             0.1111111111111111,
             "#46039f"
            ],
            [
             0.2222222222222222,
             "#7201a8"
            ],
            [
             0.3333333333333333,
             "#9c179e"
            ],
            [
             0.4444444444444444,
             "#bd3786"
            ],
            [
             0.5555555555555556,
             "#d8576b"
            ],
            [
             0.6666666666666666,
             "#ed7953"
            ],
            [
             0.7777777777777778,
             "#fb9f3a"
            ],
            [
             0.8888888888888888,
             "#fdca26"
            ],
            [
             1,
             "#f0f921"
            ]
           ]
          },
          "colorway": [
           "#636efa",
           "#EF553B",
           "#00cc96",
           "#ab63fa",
           "#FFA15A",
           "#19d3f3",
           "#FF6692",
           "#B6E880",
           "#FF97FF",
           "#FECB52"
          ],
          "font": {
           "color": "#2a3f5f"
          },
          "geo": {
           "bgcolor": "white",
           "lakecolor": "white",
           "landcolor": "#E5ECF6",
           "showlakes": true,
           "showland": true,
           "subunitcolor": "white"
          },
          "hoverlabel": {
           "align": "left"
          },
          "hovermode": "closest",
          "mapbox": {
           "style": "light"
          },
          "paper_bgcolor": "white",
          "plot_bgcolor": "#E5ECF6",
          "polar": {
           "angularaxis": {
            "gridcolor": "white",
            "linecolor": "white",
            "ticks": ""
           },
           "bgcolor": "#E5ECF6",
           "radialaxis": {
            "gridcolor": "white",
            "linecolor": "white",
            "ticks": ""
           }
          },
          "scene": {
           "xaxis": {
            "backgroundcolor": "#E5ECF6",
            "gridcolor": "white",
            "gridwidth": 2,
            "linecolor": "white",
            "showbackground": true,
            "ticks": "",
            "zerolinecolor": "white"
           },
           "yaxis": {
            "backgroundcolor": "#E5ECF6",
            "gridcolor": "white",
            "gridwidth": 2,
            "linecolor": "white",
            "showbackground": true,
            "ticks": "",
            "zerolinecolor": "white"
           },
           "zaxis": {
            "backgroundcolor": "#E5ECF6",
            "gridcolor": "white",
            "gridwidth": 2,
            "linecolor": "white",
            "showbackground": true,
            "ticks": "",
            "zerolinecolor": "white"
           }
          },
          "shapedefaults": {
           "line": {
            "color": "#2a3f5f"
           }
          },
          "ternary": {
           "aaxis": {
            "gridcolor": "white",
            "linecolor": "white",
            "ticks": ""
           },
           "baxis": {
            "gridcolor": "white",
            "linecolor": "white",
            "ticks": ""
           },
           "bgcolor": "#E5ECF6",
           "caxis": {
            "gridcolor": "white",
            "linecolor": "white",
            "ticks": ""
           }
          },
          "title": {
           "x": 0.05
          },
          "xaxis": {
           "automargin": true,
           "gridcolor": "white",
           "linecolor": "white",
           "ticks": "",
           "title": {
            "standoff": 15
           },
           "zerolinecolor": "white",
           "zerolinewidth": 2
          },
          "yaxis": {
           "automargin": true,
           "gridcolor": "white",
           "linecolor": "white",
           "ticks": "",
           "title": {
            "standoff": 15
           },
           "zerolinecolor": "white",
           "zerolinewidth": 2
          }
         }
        },
        "title": {
         "font": {
          "color": "#284669",
          "family": "Arial",
          "size": 24
         },
         "text": "Incumplimiento General por Perfil",
         "x": 0.5
        },
        "width": 700
       }
      }
     },
     "metadata": {},
     "output_type": "display_data"
    }
   ],
   "source": [
    "conteoDefault = df.groupby(['Perfil', 'default']).size().reset_index(name='Cantidad')\n",
    "\n",
    "coloresDefault = {\n",
    "    'yes': '#C24646',\n",
    "    'no': '#518AB7'\n",
    "}\n",
    "\n",
    "fig = px.sunburst(\n",
    "    conteoDefault,\n",
    "    path=['Perfil', 'default'],\n",
    "    values='Cantidad',\n",
    "    color='default',\n",
    "    color_discrete_map=coloresDefault,\n",
    "    title='Incumplimiento General por Perfil'\n",
    ")\n",
    "\n",
    "fig.update_layout(\n",
    "    font=dict(size=22, family='Arial', color='#284669'),       \n",
    "    title_font=dict(size=24, family='Arial', color='#284669'), \n",
    "    paper_bgcolor='#F0F5FA',\n",
    "    margin=dict(t=50, l=0, r=0, b=25),\n",
    "    title_x=0.5,\n",
    "    width=700,\n",
    "    height=700\n",
    ")\n",
    "\n",
    "fig.show()\n",
    "\n"
   ]
  },
  {
   "cell_type": "code",
   "execution_count": null,
   "id": "a5d35fae",
   "metadata": {},
   "outputs": [
    {
     "data": {
      "text/plain": [
       "Perfil\n",
       "Adultxs            2036\n",
       "Divorciadxs        1347\n",
       "Gen Z & Boomers    1722\n",
       "Millenials         2592\n",
       "dtype: int64"
      ]
     },
     "metadata": {},
     "output_type": "display_data"
    }
   ],
   "source": [
    "grupos = df[df['deposit'] == 'yes'].groupby('Perfil').size()\n",
    "grupos"
   ]
  },
  {
   "cell_type": "markdown",
   "id": "603b2558",
   "metadata": {},
   "source": [
    "Tamaño de la muestra por Perfil"
   ]
  },
  {
   "cell_type": "code",
   "execution_count": 30,
   "id": "f8527eac",
   "metadata": {},
   "outputs": [
    {
     "data": {
      "text/plain": [
       "Perfil\n",
       "Adultxs            4850\n",
       "Divorciadxs        3179\n",
       "Gen Z & Boomers    2870\n",
       "Millenials         5263\n",
       "Name: id, dtype: int64"
      ]
     },
     "execution_count": 30,
     "metadata": {},
     "output_type": "execute_result"
    }
   ],
   "source": [
    "tamañoMuestra = round(df.groupby('Perfil')['id'].count(),2)\n",
    "tamañoMuestra"
   ]
  },
  {
   "cell_type": "markdown",
   "id": "18df338f",
   "metadata": {},
   "source": [
    "Productos Por Perfil"
   ]
  },
  {
   "cell_type": "code",
   "execution_count": null,
   "id": "16557610",
   "metadata": {},
   "outputs": [
    {
     "data": {
      "text/html": [
       "<div>\n",
       "<style scoped>\n",
       "    .dataframe tbody tr th:only-of-type {\n",
       "        vertical-align: middle;\n",
       "    }\n",
       "\n",
       "    .dataframe tbody tr th {\n",
       "        vertical-align: top;\n",
       "    }\n",
       "\n",
       "    .dataframe thead th {\n",
       "        text-align: right;\n",
       "    }\n",
       "</style>\n",
       "<table border=\"1\" class=\"dataframe\">\n",
       "  <thead>\n",
       "    <tr style=\"text-align: right;\">\n",
       "      <th></th>\n",
       "      <th>Perfil</th>\n",
       "      <th>Producto</th>\n",
       "      <th>Cantidad</th>\n",
       "    </tr>\n",
       "  </thead>\n",
       "  <tbody>\n",
       "    <tr>\n",
       "      <th>0</th>\n",
       "      <td>Adultxs</td>\n",
       "      <td>deposit</td>\n",
       "      <td>2036</td>\n",
       "    </tr>\n",
       "    <tr>\n",
       "      <th>1</th>\n",
       "      <td>Adultxs</td>\n",
       "      <td>housing</td>\n",
       "      <td>2761</td>\n",
       "    </tr>\n",
       "    <tr>\n",
       "      <th>2</th>\n",
       "      <td>Adultxs</td>\n",
       "      <td>loan</td>\n",
       "      <td>620</td>\n",
       "    </tr>\n",
       "    <tr>\n",
       "      <th>3</th>\n",
       "      <td>Divorciadxs</td>\n",
       "      <td>deposit</td>\n",
       "      <td>1347</td>\n",
       "    </tr>\n",
       "    <tr>\n",
       "      <th>4</th>\n",
       "      <td>Divorciadxs</td>\n",
       "      <td>housing</td>\n",
       "      <td>1392</td>\n",
       "    </tr>\n",
       "    <tr>\n",
       "      <th>5</th>\n",
       "      <td>Divorciadxs</td>\n",
       "      <td>loan</td>\n",
       "      <td>539</td>\n",
       "    </tr>\n",
       "    <tr>\n",
       "      <th>6</th>\n",
       "      <td>Gen Z &amp; Boomers</td>\n",
       "      <td>deposit</td>\n",
       "      <td>1722</td>\n",
       "    </tr>\n",
       "    <tr>\n",
       "      <th>7</th>\n",
       "      <td>Gen Z &amp; Boomers</td>\n",
       "      <td>housing</td>\n",
       "      <td>747</td>\n",
       "    </tr>\n",
       "    <tr>\n",
       "      <th>8</th>\n",
       "      <td>Gen Z &amp; Boomers</td>\n",
       "      <td>loan</td>\n",
       "      <td>247</td>\n",
       "    </tr>\n",
       "    <tr>\n",
       "      <th>9</th>\n",
       "      <td>Millenials</td>\n",
       "      <td>deposit</td>\n",
       "      <td>2592</td>\n",
       "    </tr>\n",
       "    <tr>\n",
       "      <th>10</th>\n",
       "      <td>Millenials</td>\n",
       "      <td>housing</td>\n",
       "      <td>2714</td>\n",
       "    </tr>\n",
       "    <tr>\n",
       "      <th>11</th>\n",
       "      <td>Millenials</td>\n",
       "      <td>loan</td>\n",
       "      <td>713</td>\n",
       "    </tr>\n",
       "  </tbody>\n",
       "</table>\n",
       "</div>"
      ],
      "text/plain": [
       "             Perfil Producto  Cantidad\n",
       "0           Adultxs  deposit      2036\n",
       "1           Adultxs  housing      2761\n",
       "2           Adultxs     loan       620\n",
       "3       Divorciadxs  deposit      1347\n",
       "4       Divorciadxs  housing      1392\n",
       "5       Divorciadxs     loan       539\n",
       "6   Gen Z & Boomers  deposit      1722\n",
       "7   Gen Z & Boomers  housing       747\n",
       "8   Gen Z & Boomers     loan       247\n",
       "9        Millenials  deposit      2592\n",
       "10       Millenials  housing      2714\n",
       "11       Millenials     loan       713"
      ]
     },
     "execution_count": 107,
     "metadata": {},
     "output_type": "execute_result"
    }
   ],
   "source": [
    "dfProductos = df[['Perfil', 'housing', 'loan', 'deposit']]\n",
    "\n",
    "dfLargo = dfProductos.melt(id_vars='Perfil', \n",
    "                             value_vars=['housing', 'loan', 'deposit'],\n",
    "                             var_name='Producto', \n",
    "                             value_name='Comprado')\n",
    "\n",
    "dfComprados = dfLargo[dfLargo['Comprado'] == 'yes']\n",
    "\n",
    "conteo = dfComprados.groupby(['Perfil', 'Producto']).size().reset_index(name='Cantidad')\n",
    "\n",
    "conteo"
   ]
  },
  {
   "cell_type": "code",
   "execution_count": 127,
   "id": "16a26d22",
   "metadata": {},
   "outputs": [
    {
     "data": {
      "application/vnd.plotly.v1+json": {
       "config": {
        "plotlyServerURL": "https://plot.ly"
       },
       "data": [
        {
         "customdata": [
          [
           "deposit"
          ],
          [
           "housing"
          ],
          [
           "loan"
          ]
         ],
         "domain": {
          "x": [
           0,
           0.235
          ],
          "y": [
           0,
           1
          ]
         },
         "hovertemplate": "Perfil=Gen Z & Boomers<br>Producto=%{customdata[0]}<br>Cantidad=%{value}<extra></extra>",
         "labels": [
          "deposit",
          "housing",
          "loan"
         ],
         "legendgroup": "",
         "marker": {
          "colors": [
           "#D9B300",
           "#C24646",
           "#518AB7"
          ]
         },
         "name": "",
         "showlegend": true,
         "type": "pie",
         "values": {
          "bdata": "ugbrAvcA",
          "dtype": "i2"
         }
        },
        {
         "customdata": [
          [
           "deposit"
          ],
          [
           "housing"
          ],
          [
           "loan"
          ]
         ],
         "domain": {
          "x": [
           0.255,
           0.49
          ],
          "y": [
           0,
           1
          ]
         },
         "hovertemplate": "Perfil=Millenials<br>Producto=%{customdata[0]}<br>Cantidad=%{value}<extra></extra>",
         "labels": [
          "deposit",
          "housing",
          "loan"
         ],
         "legendgroup": "",
         "marker": {
          "colors": [
           "#D9B300",
           "#C24646",
           "#518AB7"
          ]
         },
         "name": "",
         "showlegend": true,
         "type": "pie",
         "values": {
          "bdata": "IAqaCskC",
          "dtype": "i2"
         }
        },
        {
         "customdata": [
          [
           "deposit"
          ],
          [
           "housing"
          ],
          [
           "loan"
          ]
         ],
         "domain": {
          "x": [
           0.51,
           0.745
          ],
          "y": [
           0,
           1
          ]
         },
         "hovertemplate": "Perfil=Adultxs<br>Producto=%{customdata[0]}<br>Cantidad=%{value}<extra></extra>",
         "labels": [
          "deposit",
          "housing",
          "loan"
         ],
         "legendgroup": "",
         "marker": {
          "colors": [
           "#D9B300",
           "#C24646",
           "#518AB7"
          ]
         },
         "name": "",
         "showlegend": true,
         "type": "pie",
         "values": {
          "bdata": "9AfJCmwC",
          "dtype": "i2"
         }
        },
        {
         "customdata": [
          [
           "deposit"
          ],
          [
           "housing"
          ],
          [
           "loan"
          ]
         ],
         "domain": {
          "x": [
           0.7649999999999999,
           0.9999999999999999
          ],
          "y": [
           0,
           1
          ]
         },
         "hovertemplate": "Perfil=Divorciadxs<br>Producto=%{customdata[0]}<br>Cantidad=%{value}<extra></extra>",
         "labels": [
          "deposit",
          "housing",
          "loan"
         ],
         "legendgroup": "",
         "marker": {
          "colors": [
           "#D9B300",
           "#C24646",
           "#518AB7"
          ]
         },
         "name": "",
         "showlegend": true,
         "type": "pie",
         "values": {
          "bdata": "QwVwBRsC",
          "dtype": "i2"
         }
        }
       ],
       "layout": {
        "annotations": [
         {
          "font": {},
          "showarrow": false,
          "text": "Perfil=Gen Z & Boomers",
          "x": 0.1175,
          "xanchor": "center",
          "xref": "paper",
          "y": 1,
          "yanchor": "bottom",
          "yref": "paper"
         },
         {
          "font": {},
          "showarrow": false,
          "text": "Perfil=Millenials",
          "x": 0.3725,
          "xanchor": "center",
          "xref": "paper",
          "y": 1,
          "yanchor": "bottom",
          "yref": "paper"
         },
         {
          "font": {},
          "showarrow": false,
          "text": "Perfil=Adultxs",
          "x": 0.6275,
          "xanchor": "center",
          "xref": "paper",
          "y": 1,
          "yanchor": "bottom",
          "yref": "paper"
         },
         {
          "font": {},
          "showarrow": false,
          "text": "Perfil=Divorciadxs",
          "x": 0.8824999999999998,
          "xanchor": "center",
          "xref": "paper",
          "y": 1,
          "yanchor": "bottom",
          "yref": "paper"
         }
        ],
        "font": {
         "color": "#284669",
         "family": "Arial",
         "size": 18
        },
        "legend": {
         "tracegroupgap": 0
        },
        "paper_bgcolor": "#F0F5FA",
        "template": {
         "data": {
          "bar": [
           {
            "error_x": {
             "color": "#2a3f5f"
            },
            "error_y": {
             "color": "#2a3f5f"
            },
            "marker": {
             "line": {
              "color": "#E5ECF6",
              "width": 0.5
             },
             "pattern": {
              "fillmode": "overlay",
              "size": 10,
              "solidity": 0.2
             }
            },
            "type": "bar"
           }
          ],
          "barpolar": [
           {
            "marker": {
             "line": {
              "color": "#E5ECF6",
              "width": 0.5
             },
             "pattern": {
              "fillmode": "overlay",
              "size": 10,
              "solidity": 0.2
             }
            },
            "type": "barpolar"
           }
          ],
          "carpet": [
           {
            "aaxis": {
             "endlinecolor": "#2a3f5f",
             "gridcolor": "white",
             "linecolor": "white",
             "minorgridcolor": "white",
             "startlinecolor": "#2a3f5f"
            },
            "baxis": {
             "endlinecolor": "#2a3f5f",
             "gridcolor": "white",
             "linecolor": "white",
             "minorgridcolor": "white",
             "startlinecolor": "#2a3f5f"
            },
            "type": "carpet"
           }
          ],
          "choropleth": [
           {
            "colorbar": {
             "outlinewidth": 0,
             "ticks": ""
            },
            "type": "choropleth"
           }
          ],
          "contour": [
           {
            "colorbar": {
             "outlinewidth": 0,
             "ticks": ""
            },
            "colorscale": [
             [
              0,
              "#0d0887"
             ],
             [
              0.1111111111111111,
              "#46039f"
             ],
             [
              0.2222222222222222,
              "#7201a8"
             ],
             [
              0.3333333333333333,
              "#9c179e"
             ],
             [
              0.4444444444444444,
              "#bd3786"
             ],
             [
              0.5555555555555556,
              "#d8576b"
             ],
             [
              0.6666666666666666,
              "#ed7953"
             ],
             [
              0.7777777777777778,
              "#fb9f3a"
             ],
             [
              0.8888888888888888,
              "#fdca26"
             ],
             [
              1,
              "#f0f921"
             ]
            ],
            "type": "contour"
           }
          ],
          "contourcarpet": [
           {
            "colorbar": {
             "outlinewidth": 0,
             "ticks": ""
            },
            "type": "contourcarpet"
           }
          ],
          "heatmap": [
           {
            "colorbar": {
             "outlinewidth": 0,
             "ticks": ""
            },
            "colorscale": [
             [
              0,
              "#0d0887"
             ],
             [
              0.1111111111111111,
              "#46039f"
             ],
             [
              0.2222222222222222,
              "#7201a8"
             ],
             [
              0.3333333333333333,
              "#9c179e"
             ],
             [
              0.4444444444444444,
              "#bd3786"
             ],
             [
              0.5555555555555556,
              "#d8576b"
             ],
             [
              0.6666666666666666,
              "#ed7953"
             ],
             [
              0.7777777777777778,
              "#fb9f3a"
             ],
             [
              0.8888888888888888,
              "#fdca26"
             ],
             [
              1,
              "#f0f921"
             ]
            ],
            "type": "heatmap"
           }
          ],
          "histogram": [
           {
            "marker": {
             "pattern": {
              "fillmode": "overlay",
              "size": 10,
              "solidity": 0.2
             }
            },
            "type": "histogram"
           }
          ],
          "histogram2d": [
           {
            "colorbar": {
             "outlinewidth": 0,
             "ticks": ""
            },
            "colorscale": [
             [
              0,
              "#0d0887"
             ],
             [
              0.1111111111111111,
              "#46039f"
             ],
             [
              0.2222222222222222,
              "#7201a8"
             ],
             [
              0.3333333333333333,
              "#9c179e"
             ],
             [
              0.4444444444444444,
              "#bd3786"
             ],
             [
              0.5555555555555556,
              "#d8576b"
             ],
             [
              0.6666666666666666,
              "#ed7953"
             ],
             [
              0.7777777777777778,
              "#fb9f3a"
             ],
             [
              0.8888888888888888,
              "#fdca26"
             ],
             [
              1,
              "#f0f921"
             ]
            ],
            "type": "histogram2d"
           }
          ],
          "histogram2dcontour": [
           {
            "colorbar": {
             "outlinewidth": 0,
             "ticks": ""
            },
            "colorscale": [
             [
              0,
              "#0d0887"
             ],
             [
              0.1111111111111111,
              "#46039f"
             ],
             [
              0.2222222222222222,
              "#7201a8"
             ],
             [
              0.3333333333333333,
              "#9c179e"
             ],
             [
              0.4444444444444444,
              "#bd3786"
             ],
             [
              0.5555555555555556,
              "#d8576b"
             ],
             [
              0.6666666666666666,
              "#ed7953"
             ],
             [
              0.7777777777777778,
              "#fb9f3a"
             ],
             [
              0.8888888888888888,
              "#fdca26"
             ],
             [
              1,
              "#f0f921"
             ]
            ],
            "type": "histogram2dcontour"
           }
          ],
          "mesh3d": [
           {
            "colorbar": {
             "outlinewidth": 0,
             "ticks": ""
            },
            "type": "mesh3d"
           }
          ],
          "parcoords": [
           {
            "line": {
             "colorbar": {
              "outlinewidth": 0,
              "ticks": ""
             }
            },
            "type": "parcoords"
           }
          ],
          "pie": [
           {
            "automargin": true,
            "type": "pie"
           }
          ],
          "scatter": [
           {
            "fillpattern": {
             "fillmode": "overlay",
             "size": 10,
             "solidity": 0.2
            },
            "type": "scatter"
           }
          ],
          "scatter3d": [
           {
            "line": {
             "colorbar": {
              "outlinewidth": 0,
              "ticks": ""
             }
            },
            "marker": {
             "colorbar": {
              "outlinewidth": 0,
              "ticks": ""
             }
            },
            "type": "scatter3d"
           }
          ],
          "scattercarpet": [
           {
            "marker": {
             "colorbar": {
              "outlinewidth": 0,
              "ticks": ""
             }
            },
            "type": "scattercarpet"
           }
          ],
          "scattergeo": [
           {
            "marker": {
             "colorbar": {
              "outlinewidth": 0,
              "ticks": ""
             }
            },
            "type": "scattergeo"
           }
          ],
          "scattergl": [
           {
            "marker": {
             "colorbar": {
              "outlinewidth": 0,
              "ticks": ""
             }
            },
            "type": "scattergl"
           }
          ],
          "scattermap": [
           {
            "marker": {
             "colorbar": {
              "outlinewidth": 0,
              "ticks": ""
             }
            },
            "type": "scattermap"
           }
          ],
          "scattermapbox": [
           {
            "marker": {
             "colorbar": {
              "outlinewidth": 0,
              "ticks": ""
             }
            },
            "type": "scattermapbox"
           }
          ],
          "scatterpolar": [
           {
            "marker": {
             "colorbar": {
              "outlinewidth": 0,
              "ticks": ""
             }
            },
            "type": "scatterpolar"
           }
          ],
          "scatterpolargl": [
           {
            "marker": {
             "colorbar": {
              "outlinewidth": 0,
              "ticks": ""
             }
            },
            "type": "scatterpolargl"
           }
          ],
          "scatterternary": [
           {
            "marker": {
             "colorbar": {
              "outlinewidth": 0,
              "ticks": ""
             }
            },
            "type": "scatterternary"
           }
          ],
          "surface": [
           {
            "colorbar": {
             "outlinewidth": 0,
             "ticks": ""
            },
            "colorscale": [
             [
              0,
              "#0d0887"
             ],
             [
              0.1111111111111111,
              "#46039f"
             ],
             [
              0.2222222222222222,
              "#7201a8"
             ],
             [
              0.3333333333333333,
              "#9c179e"
             ],
             [
              0.4444444444444444,
              "#bd3786"
             ],
             [
              0.5555555555555556,
              "#d8576b"
             ],
             [
              0.6666666666666666,
              "#ed7953"
             ],
             [
              0.7777777777777778,
              "#fb9f3a"
             ],
             [
              0.8888888888888888,
              "#fdca26"
             ],
             [
              1,
              "#f0f921"
             ]
            ],
            "type": "surface"
           }
          ],
          "table": [
           {
            "cells": {
             "fill": {
              "color": "#EBF0F8"
             },
             "line": {
              "color": "white"
             }
            },
            "header": {
             "fill": {
              "color": "#C8D4E3"
             },
             "line": {
              "color": "white"
             }
            },
            "type": "table"
           }
          ]
         },
         "layout": {
          "annotationdefaults": {
           "arrowcolor": "#2a3f5f",
           "arrowhead": 0,
           "arrowwidth": 1
          },
          "autotypenumbers": "strict",
          "coloraxis": {
           "colorbar": {
            "outlinewidth": 0,
            "ticks": ""
           }
          },
          "colorscale": {
           "diverging": [
            [
             0,
             "#8e0152"
            ],
            [
             0.1,
             "#c51b7d"
            ],
            [
             0.2,
             "#de77ae"
            ],
            [
             0.3,
             "#f1b6da"
            ],
            [
             0.4,
             "#fde0ef"
            ],
            [
             0.5,
             "#f7f7f7"
            ],
            [
             0.6,
             "#e6f5d0"
            ],
            [
             0.7,
             "#b8e186"
            ],
            [
             0.8,
             "#7fbc41"
            ],
            [
             0.9,
             "#4d9221"
            ],
            [
             1,
             "#276419"
            ]
           ],
           "sequential": [
            [
             0,
             "#0d0887"
            ],
            [
             0.1111111111111111,
             "#46039f"
            ],
            [
             0.2222222222222222,
             "#7201a8"
            ],
            [
             0.3333333333333333,
             "#9c179e"
            ],
            [
             0.4444444444444444,
             "#bd3786"
            ],
            [
             0.5555555555555556,
             "#d8576b"
            ],
            [
             0.6666666666666666,
             "#ed7953"
            ],
            [
             0.7777777777777778,
             "#fb9f3a"
            ],
            [
             0.8888888888888888,
             "#fdca26"
            ],
            [
             1,
             "#f0f921"
            ]
           ],
           "sequentialminus": [
            [
             0,
             "#0d0887"
            ],
            [
             0.1111111111111111,
             "#46039f"
            ],
            [
             0.2222222222222222,
             "#7201a8"
            ],
            [
             0.3333333333333333,
             "#9c179e"
            ],
            [
             0.4444444444444444,
             "#bd3786"
            ],
            [
             0.5555555555555556,
             "#d8576b"
            ],
            [
             0.6666666666666666,
             "#ed7953"
            ],
            [
             0.7777777777777778,
             "#fb9f3a"
            ],
            [
             0.8888888888888888,
             "#fdca26"
            ],
            [
             1,
             "#f0f921"
            ]
           ]
          },
          "colorway": [
           "#636efa",
           "#EF553B",
           "#00cc96",
           "#ab63fa",
           "#FFA15A",
           "#19d3f3",
           "#FF6692",
           "#B6E880",
           "#FF97FF",
           "#FECB52"
          ],
          "font": {
           "color": "#2a3f5f"
          },
          "geo": {
           "bgcolor": "white",
           "lakecolor": "white",
           "landcolor": "#E5ECF6",
           "showlakes": true,
           "showland": true,
           "subunitcolor": "white"
          },
          "hoverlabel": {
           "align": "left"
          },
          "hovermode": "closest",
          "mapbox": {
           "style": "light"
          },
          "paper_bgcolor": "white",
          "plot_bgcolor": "#E5ECF6",
          "polar": {
           "angularaxis": {
            "gridcolor": "white",
            "linecolor": "white",
            "ticks": ""
           },
           "bgcolor": "#E5ECF6",
           "radialaxis": {
            "gridcolor": "white",
            "linecolor": "white",
            "ticks": ""
           }
          },
          "scene": {
           "xaxis": {
            "backgroundcolor": "#E5ECF6",
            "gridcolor": "white",
            "gridwidth": 2,
            "linecolor": "white",
            "showbackground": true,
            "ticks": "",
            "zerolinecolor": "white"
           },
           "yaxis": {
            "backgroundcolor": "#E5ECF6",
            "gridcolor": "white",
            "gridwidth": 2,
            "linecolor": "white",
            "showbackground": true,
            "ticks": "",
            "zerolinecolor": "white"
           },
           "zaxis": {
            "backgroundcolor": "#E5ECF6",
            "gridcolor": "white",
            "gridwidth": 2,
            "linecolor": "white",
            "showbackground": true,
            "ticks": "",
            "zerolinecolor": "white"
           }
          },
          "shapedefaults": {
           "line": {
            "color": "#2a3f5f"
           }
          },
          "ternary": {
           "aaxis": {
            "gridcolor": "white",
            "linecolor": "white",
            "ticks": ""
           },
           "baxis": {
            "gridcolor": "white",
            "linecolor": "white",
            "ticks": ""
           },
           "bgcolor": "#E5ECF6",
           "caxis": {
            "gridcolor": "white",
            "linecolor": "white",
            "ticks": ""
           }
          },
          "title": {
           "x": 0.05
          },
          "xaxis": {
           "automargin": true,
           "gridcolor": "white",
           "linecolor": "white",
           "ticks": "",
           "title": {
            "standoff": 15
           },
           "zerolinecolor": "white",
           "zerolinewidth": 2
          },
          "yaxis": {
           "automargin": true,
           "gridcolor": "white",
           "linecolor": "white",
           "ticks": "",
           "title": {
            "standoff": 15
           },
           "zerolinecolor": "white",
           "zerolinewidth": 2
          }
         }
        },
        "title": {
         "font": {
          "color": "#284669",
          "family": "Arial",
          "size": 22
         },
         "text": "Productos Comprados por Perfil"
        }
       }
      }
     },
     "metadata": {},
     "output_type": "display_data"
    }
   ],
   "source": [
    "colores = {\n",
    "    'housing': '#C24646',\n",
    "    'loan': '#518AB7',\n",
    "    'deposit': '#D9B300'\n",
    "}\n",
    "\n",
    "orden_perfiles = ['Gen Z & Boomers', 'Millenials', 'Adultxs', 'Divorciadxs']\n",
    "conteo['Perfil'] = pd.Categorical(conteo['Perfil'], categories=orden_perfiles, ordered=True)\n",
    "conteo = conteo.sort_values('Perfil')\n",
    "\n",
    "fig = px.pie(\n",
    "    conteo, \n",
    "    names='Producto', \n",
    "    values='Cantidad', \n",
    "    title='Productos Comprados por Perfil',\n",
    "    color='Producto',\n",
    "    color_discrete_map=colores, \n",
    "    facet_col='Perfil'\n",
    ")\n",
    "\n",
    "fig.update_layout(\n",
    "    font=dict(size=18, family='Arial', color='#284669'),\n",
    "    title_font=dict(size=22, family='Arial', color='#284669'),\n",
    "    paper_bgcolor='#F0F5FA'\n",
    ")\n",
    "\n",
    "fig.show()\n"
   ]
  },
  {
   "cell_type": "code",
   "execution_count": null,
   "id": "6dc289ff",
   "metadata": {},
   "outputs": [
    {
     "data": {
      "application/vnd.plotly.v1+json": {
       "config": {
        "plotlyServerURL": "https://plot.ly"
       },
       "data": [
        {
         "branchvalues": "total",
         "customdata": [
          [
           "(?)"
          ],
          [
           "(?)"
          ],
          [
           "(?)"
          ],
          [
           "(?)"
          ],
          [
           "deposit"
          ],
          [
           "deposit"
          ],
          [
           "deposit"
          ],
          [
           "deposit"
          ],
          [
           "housing"
          ],
          [
           "housing"
          ],
          [
           "housing"
          ],
          [
           "housing"
          ],
          [
           "loan"
          ],
          [
           "loan"
          ],
          [
           "loan"
          ],
          [
           "loan"
          ]
         ],
         "domain": {
          "x": [
           0,
           1
          ],
          "y": [
           0,
           1
          ]
         },
         "hovertemplate": "labels=%{label}<br>Cantidad=%{value}<br>parent=%{parent}<br>id=%{id}<br>Producto=%{customdata[0]}<extra></extra>",
         "ids": [
          "Adultxs",
          "Divorciadxs",
          "Gen Z & Boomers",
          "Millenials",
          "Adultxs/deposit",
          "Divorciadxs/deposit",
          "Gen Z & Boomers/deposit",
          "Millenials/deposit",
          "Adultxs/housing",
          "Divorciadxs/housing",
          "Gen Z & Boomers/housing",
          "Millenials/housing",
          "Adultxs/loan",
          "Divorciadxs/loan",
          "Gen Z & Boomers/loan",
          "Millenials/loan"
         ],
         "labels": [
          "Adultxs",
          "Divorciadxs",
          "Gen Z & Boomers",
          "Millenials",
          "deposit",
          "deposit",
          "deposit",
          "deposit",
          "housing",
          "housing",
          "housing",
          "housing",
          "loan",
          "loan",
          "loan",
          "loan"
         ],
         "marker": {
          "colors": [
           "#ab63fa",
           "#ab63fa",
           "#ab63fa",
           "#ab63fa",
           "#D9B300",
           "#D9B300",
           "#D9B300",
           "#D9B300",
           "#C24646",
           "#C24646",
           "#C24646",
           "#C24646",
           "#518AB7",
           "#518AB7",
           "#518AB7",
           "#518AB7"
          ]
         },
         "name": "",
         "parents": [
          "",
          "",
          "",
          "",
          "Adultxs",
          "Divorciadxs",
          "Gen Z & Boomers",
          "Millenials",
          "Adultxs",
          "Divorciadxs",
          "Gen Z & Boomers",
          "Millenials",
          "Adultxs",
          "Divorciadxs",
          "Gen Z & Boomers",
          "Millenials"
         ],
         "root": {
          "color": "#E8DCC3"
         },
         "textinfo": "label+percent entry",
         "type": "sunburst",
         "values": {
          "bdata": "AAAAAAAptUAAAAAAAJypQAAAAAAAOKVAAAAAAACDt0AAAAAAANCfQAAAAAAADJVAAAAAAADomkAAAAAAAECkQAAAAAAAkqVAAAAAAADAlUAAAAAAAFiHQAAAAAAANKVAAAAAAABgg0AAAAAAANiAQAAAAAAA4G5AAAAAAABIhkA=",
          "dtype": "f8"
         }
        }
       ],
       "layout": {
        "font": {
         "color": "#284669",
         "family": "Arial",
         "size": 22
        },
        "height": 700,
        "legend": {
         "tracegroupgap": 0
        },
        "margin": {
         "b": 25,
         "l": 0,
         "r": 0,
         "t": 50
        },
        "paper_bgcolor": "#F0F5FA",
        "template": {
         "data": {
          "bar": [
           {
            "error_x": {
             "color": "#2a3f5f"
            },
            "error_y": {
             "color": "#2a3f5f"
            },
            "marker": {
             "line": {
              "color": "#E5ECF6",
              "width": 0.5
             },
             "pattern": {
              "fillmode": "overlay",
              "size": 10,
              "solidity": 0.2
             }
            },
            "type": "bar"
           }
          ],
          "barpolar": [
           {
            "marker": {
             "line": {
              "color": "#E5ECF6",
              "width": 0.5
             },
             "pattern": {
              "fillmode": "overlay",
              "size": 10,
              "solidity": 0.2
             }
            },
            "type": "barpolar"
           }
          ],
          "carpet": [
           {
            "aaxis": {
             "endlinecolor": "#2a3f5f",
             "gridcolor": "white",
             "linecolor": "white",
             "minorgridcolor": "white",
             "startlinecolor": "#2a3f5f"
            },
            "baxis": {
             "endlinecolor": "#2a3f5f",
             "gridcolor": "white",
             "linecolor": "white",
             "minorgridcolor": "white",
             "startlinecolor": "#2a3f5f"
            },
            "type": "carpet"
           }
          ],
          "choropleth": [
           {
            "colorbar": {
             "outlinewidth": 0,
             "ticks": ""
            },
            "type": "choropleth"
           }
          ],
          "contour": [
           {
            "colorbar": {
             "outlinewidth": 0,
             "ticks": ""
            },
            "colorscale": [
             [
              0,
              "#0d0887"
             ],
             [
              0.1111111111111111,
              "#46039f"
             ],
             [
              0.2222222222222222,
              "#7201a8"
             ],
             [
              0.3333333333333333,
              "#9c179e"
             ],
             [
              0.4444444444444444,
              "#bd3786"
             ],
             [
              0.5555555555555556,
              "#d8576b"
             ],
             [
              0.6666666666666666,
              "#ed7953"
             ],
             [
              0.7777777777777778,
              "#fb9f3a"
             ],
             [
              0.8888888888888888,
              "#fdca26"
             ],
             [
              1,
              "#f0f921"
             ]
            ],
            "type": "contour"
           }
          ],
          "contourcarpet": [
           {
            "colorbar": {
             "outlinewidth": 0,
             "ticks": ""
            },
            "type": "contourcarpet"
           }
          ],
          "heatmap": [
           {
            "colorbar": {
             "outlinewidth": 0,
             "ticks": ""
            },
            "colorscale": [
             [
              0,
              "#0d0887"
             ],
             [
              0.1111111111111111,
              "#46039f"
             ],
             [
              0.2222222222222222,
              "#7201a8"
             ],
             [
              0.3333333333333333,
              "#9c179e"
             ],
             [
              0.4444444444444444,
              "#bd3786"
             ],
             [
              0.5555555555555556,
              "#d8576b"
             ],
             [
              0.6666666666666666,
              "#ed7953"
             ],
             [
              0.7777777777777778,
              "#fb9f3a"
             ],
             [
              0.8888888888888888,
              "#fdca26"
             ],
             [
              1,
              "#f0f921"
             ]
            ],
            "type": "heatmap"
           }
          ],
          "histogram": [
           {
            "marker": {
             "pattern": {
              "fillmode": "overlay",
              "size": 10,
              "solidity": 0.2
             }
            },
            "type": "histogram"
           }
          ],
          "histogram2d": [
           {
            "colorbar": {
             "outlinewidth": 0,
             "ticks": ""
            },
            "colorscale": [
             [
              0,
              "#0d0887"
             ],
             [
              0.1111111111111111,
              "#46039f"
             ],
             [
              0.2222222222222222,
              "#7201a8"
             ],
             [
              0.3333333333333333,
              "#9c179e"
             ],
             [
              0.4444444444444444,
              "#bd3786"
             ],
             [
              0.5555555555555556,
              "#d8576b"
             ],
             [
              0.6666666666666666,
              "#ed7953"
             ],
             [
              0.7777777777777778,
              "#fb9f3a"
             ],
             [
              0.8888888888888888,
              "#fdca26"
             ],
             [
              1,
              "#f0f921"
             ]
            ],
            "type": "histogram2d"
           }
          ],
          "histogram2dcontour": [
           {
            "colorbar": {
             "outlinewidth": 0,
             "ticks": ""
            },
            "colorscale": [
             [
              0,
              "#0d0887"
             ],
             [
              0.1111111111111111,
              "#46039f"
             ],
             [
              0.2222222222222222,
              "#7201a8"
             ],
             [
              0.3333333333333333,
              "#9c179e"
             ],
             [
              0.4444444444444444,
              "#bd3786"
             ],
             [
              0.5555555555555556,
              "#d8576b"
             ],
             [
              0.6666666666666666,
              "#ed7953"
             ],
             [
              0.7777777777777778,
              "#fb9f3a"
             ],
             [
              0.8888888888888888,
              "#fdca26"
             ],
             [
              1,
              "#f0f921"
             ]
            ],
            "type": "histogram2dcontour"
           }
          ],
          "mesh3d": [
           {
            "colorbar": {
             "outlinewidth": 0,
             "ticks": ""
            },
            "type": "mesh3d"
           }
          ],
          "parcoords": [
           {
            "line": {
             "colorbar": {
              "outlinewidth": 0,
              "ticks": ""
             }
            },
            "type": "parcoords"
           }
          ],
          "pie": [
           {
            "automargin": true,
            "type": "pie"
           }
          ],
          "scatter": [
           {
            "fillpattern": {
             "fillmode": "overlay",
             "size": 10,
             "solidity": 0.2
            },
            "type": "scatter"
           }
          ],
          "scatter3d": [
           {
            "line": {
             "colorbar": {
              "outlinewidth": 0,
              "ticks": ""
             }
            },
            "marker": {
             "colorbar": {
              "outlinewidth": 0,
              "ticks": ""
             }
            },
            "type": "scatter3d"
           }
          ],
          "scattercarpet": [
           {
            "marker": {
             "colorbar": {
              "outlinewidth": 0,
              "ticks": ""
             }
            },
            "type": "scattercarpet"
           }
          ],
          "scattergeo": [
           {
            "marker": {
             "colorbar": {
              "outlinewidth": 0,
              "ticks": ""
             }
            },
            "type": "scattergeo"
           }
          ],
          "scattergl": [
           {
            "marker": {
             "colorbar": {
              "outlinewidth": 0,
              "ticks": ""
             }
            },
            "type": "scattergl"
           }
          ],
          "scattermap": [
           {
            "marker": {
             "colorbar": {
              "outlinewidth": 0,
              "ticks": ""
             }
            },
            "type": "scattermap"
           }
          ],
          "scattermapbox": [
           {
            "marker": {
             "colorbar": {
              "outlinewidth": 0,
              "ticks": ""
             }
            },
            "type": "scattermapbox"
           }
          ],
          "scatterpolar": [
           {
            "marker": {
             "colorbar": {
              "outlinewidth": 0,
              "ticks": ""
             }
            },
            "type": "scatterpolar"
           }
          ],
          "scatterpolargl": [
           {
            "marker": {
             "colorbar": {
              "outlinewidth": 0,
              "ticks": ""
             }
            },
            "type": "scatterpolargl"
           }
          ],
          "scatterternary": [
           {
            "marker": {
             "colorbar": {
              "outlinewidth": 0,
              "ticks": ""
             }
            },
            "type": "scatterternary"
           }
          ],
          "surface": [
           {
            "colorbar": {
             "outlinewidth": 0,
             "ticks": ""
            },
            "colorscale": [
             [
              0,
              "#0d0887"
             ],
             [
              0.1111111111111111,
              "#46039f"
             ],
             [
              0.2222222222222222,
              "#7201a8"
             ],
             [
              0.3333333333333333,
              "#9c179e"
             ],
             [
              0.4444444444444444,
              "#bd3786"
             ],
             [
              0.5555555555555556,
              "#d8576b"
             ],
             [
              0.6666666666666666,
              "#ed7953"
             ],
             [
              0.7777777777777778,
              "#fb9f3a"
             ],
             [
              0.8888888888888888,
              "#fdca26"
             ],
             [
              1,
              "#f0f921"
             ]
            ],
            "type": "surface"
           }
          ],
          "table": [
           {
            "cells": {
             "fill": {
              "color": "#EBF0F8"
             },
             "line": {
              "color": "white"
             }
            },
            "header": {
             "fill": {
              "color": "#C8D4E3"
             },
             "line": {
              "color": "white"
             }
            },
            "type": "table"
           }
          ]
         },
         "layout": {
          "annotationdefaults": {
           "arrowcolor": "#2a3f5f",
           "arrowhead": 0,
           "arrowwidth": 1
          },
          "autotypenumbers": "strict",
          "coloraxis": {
           "colorbar": {
            "outlinewidth": 0,
            "ticks": ""
           }
          },
          "colorscale": {
           "diverging": [
            [
             0,
             "#8e0152"
            ],
            [
             0.1,
             "#c51b7d"
            ],
            [
             0.2,
             "#de77ae"
            ],
            [
             0.3,
             "#f1b6da"
            ],
            [
             0.4,
             "#fde0ef"
            ],
            [
             0.5,
             "#f7f7f7"
            ],
            [
             0.6,
             "#e6f5d0"
            ],
            [
             0.7,
             "#b8e186"
            ],
            [
             0.8,
             "#7fbc41"
            ],
            [
             0.9,
             "#4d9221"
            ],
            [
             1,
             "#276419"
            ]
           ],
           "sequential": [
            [
             0,
             "#0d0887"
            ],
            [
             0.1111111111111111,
             "#46039f"
            ],
            [
             0.2222222222222222,
             "#7201a8"
            ],
            [
             0.3333333333333333,
             "#9c179e"
            ],
            [
             0.4444444444444444,
             "#bd3786"
            ],
            [
             0.5555555555555556,
             "#d8576b"
            ],
            [
             0.6666666666666666,
             "#ed7953"
            ],
            [
             0.7777777777777778,
             "#fb9f3a"
            ],
            [
             0.8888888888888888,
             "#fdca26"
            ],
            [
             1,
             "#f0f921"
            ]
           ],
           "sequentialminus": [
            [
             0,
             "#0d0887"
            ],
            [
             0.1111111111111111,
             "#46039f"
            ],
            [
             0.2222222222222222,
             "#7201a8"
            ],
            [
             0.3333333333333333,
             "#9c179e"
            ],
            [
             0.4444444444444444,
             "#bd3786"
            ],
            [
             0.5555555555555556,
             "#d8576b"
            ],
            [
             0.6666666666666666,
             "#ed7953"
            ],
            [
             0.7777777777777778,
             "#fb9f3a"
            ],
            [
             0.8888888888888888,
             "#fdca26"
            ],
            [
             1,
             "#f0f921"
            ]
           ]
          },
          "colorway": [
           "#636efa",
           "#EF553B",
           "#00cc96",
           "#ab63fa",
           "#FFA15A",
           "#19d3f3",
           "#FF6692",
           "#B6E880",
           "#FF97FF",
           "#FECB52"
          ],
          "font": {
           "color": "#2a3f5f"
          },
          "geo": {
           "bgcolor": "white",
           "lakecolor": "white",
           "landcolor": "#E5ECF6",
           "showlakes": true,
           "showland": true,
           "subunitcolor": "white"
          },
          "hoverlabel": {
           "align": "left"
          },
          "hovermode": "closest",
          "mapbox": {
           "style": "light"
          },
          "paper_bgcolor": "white",
          "plot_bgcolor": "#E5ECF6",
          "polar": {
           "angularaxis": {
            "gridcolor": "white",
            "linecolor": "white",
            "ticks": ""
           },
           "bgcolor": "#E5ECF6",
           "radialaxis": {
            "gridcolor": "white",
            "linecolor": "white",
            "ticks": ""
           }
          },
          "scene": {
           "xaxis": {
            "backgroundcolor": "#E5ECF6",
            "gridcolor": "white",
            "gridwidth": 2,
            "linecolor": "white",
            "showbackground": true,
            "ticks": "",
            "zerolinecolor": "white"
           },
           "yaxis": {
            "backgroundcolor": "#E5ECF6",
            "gridcolor": "white",
            "gridwidth": 2,
            "linecolor": "white",
            "showbackground": true,
            "ticks": "",
            "zerolinecolor": "white"
           },
           "zaxis": {
            "backgroundcolor": "#E5ECF6",
            "gridcolor": "white",
            "gridwidth": 2,
            "linecolor": "white",
            "showbackground": true,
            "ticks": "",
            "zerolinecolor": "white"
           }
          },
          "shapedefaults": {
           "line": {
            "color": "#2a3f5f"
           }
          },
          "ternary": {
           "aaxis": {
            "gridcolor": "white",
            "linecolor": "white",
            "ticks": ""
           },
           "baxis": {
            "gridcolor": "white",
            "linecolor": "white",
            "ticks": ""
           },
           "bgcolor": "#E5ECF6",
           "caxis": {
            "gridcolor": "white",
            "linecolor": "white",
            "ticks": ""
           }
          },
          "title": {
           "x": 0.05
          },
          "xaxis": {
           "automargin": true,
           "gridcolor": "white",
           "linecolor": "white",
           "ticks": "",
           "title": {
            "standoff": 15
           },
           "zerolinecolor": "white",
           "zerolinewidth": 2
          },
          "yaxis": {
           "automargin": true,
           "gridcolor": "white",
           "linecolor": "white",
           "ticks": "",
           "title": {
            "standoff": 15
           },
           "zerolinecolor": "white",
           "zerolinewidth": 2
          }
         }
        },
        "title": {
         "font": {
          "color": "#284669",
          "family": "Arial",
          "size": 24
         },
         "text": "Distribución de productos comprados por perfil",
         "x": 0.5
        },
        "width": 700
       }
      }
     },
     "metadata": {},
     "output_type": "display_data"
    }
   ],
   "source": [
    "conteo = dfComprados.groupby(['Perfil', 'Producto']).size().reset_index(name='Cantidad')\n",
    "\n",
    "colores = {\n",
    "    'housing': '#C24646',\n",
    "    'loan': '#518AB7',\n",
    "    'deposit': '#D9B300'\n",
    "}\n",
    "\n",
    "fig = px.sunburst(\n",
    "    conteo,\n",
    "    path=['Perfil', 'Producto'],\n",
    "    values='Cantidad',\n",
    "    color='Producto',\n",
    "    color_discrete_map=colores,\n",
    "    title='Distribución de productos comprados por perfil'\n",
    ")\n",
    "\n",
    "fig.update_traces(\n",
    "    root_color='#E8DCC3',\n",
    "    textinfo='label+percent entry' \n",
    ")\n",
    "\n",
    "fig.update_layout(\n",
    "    font=dict(\n",
    "        size=22,         \n",
    "        family='Arial',  \n",
    "        color='#284669'   \n",
    "    ),\n",
    "    title_font=dict(\n",
    "        size=24,\n",
    "        family='Arial',\n",
    "        color='#284669'   \n",
    "    ),\n",
    "    paper_bgcolor='#F0F5FA',\n",
    "    margin=dict(t=50, l=0, r=0, b=25),\n",
    "    title_x=0.5,\n",
    "    width=700,\n",
    "    height=700\n",
    ")\n",
    "\n",
    "fig.show()\n",
    "\n"
   ]
  }
 ],
 "metadata": {
  "kernelspec": {
   "display_name": "Python 3",
   "language": "python",
   "name": "python3"
  },
  "language_info": {
   "codemirror_mode": {
    "name": "ipython",
    "version": 3
   },
   "file_extension": ".py",
   "mimetype": "text/x-python",
   "name": "python",
   "nbconvert_exporter": "python",
   "pygments_lexer": "ipython3",
   "version": "3.13.3"
  }
 },
 "nbformat": 4,
 "nbformat_minor": 5
}
