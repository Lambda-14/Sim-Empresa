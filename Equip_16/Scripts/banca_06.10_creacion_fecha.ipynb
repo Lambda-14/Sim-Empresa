{
 "cells": [
  {
   "cell_type": "code",
   "execution_count": null,
   "id": "6ebe172a",
   "metadata": {},
   "outputs": [],
   "source": [
    "meses_numerico = {\n",
    "    \"jan\" : 1,\n",
    "    \"feb\": 2,\n",
    "    \"mar\": 3,\n",
    "    \"apr\": 4, \n",
    "    \"may\": 5,\n",
    "    \"jun\": 6, \n",
    "    \"jul\": 7, \n",
    "    \"aug\": 8,\n",
    "    \"sep\": 9, \n",
    "    \"oct\": 10,\n",
    "    \"nov\": 11, \n",
    "    \"dec\": 12\n",
    "}\n",
    "\n",
    "df[\"month #\"] = df[\"month\"].map(meses_numerico)\n",
    "\n",
    "df[\"date\"] = pd.to_datetime(dict(year=2008, month= df[\"month #\"], day =df[\"day\"]))\n",
    "\n",
    "df['day_week'] = df['date'].dt.day_name(locale='es_ES')  "
   ]
  }
 ],
 "metadata": {
  "language_info": {
   "name": "python"
  }
 },
 "nbformat": 4,
 "nbformat_minor": 5
}
